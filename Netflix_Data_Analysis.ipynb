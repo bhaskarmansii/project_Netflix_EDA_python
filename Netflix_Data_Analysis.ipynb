{
 "cells": [
  {
   "cell_type": "markdown",
   "id": "14e45c06-1966-44bb-b4c0-5f9609705435",
   "metadata": {},
   "source": [
    "### This Netflix Dataset has information about the TV shows amd Movies available on Netflix till 2021\n",
    " #### The dataset collected from Kaggle "
   ]
  },
  {
   "cell_type": "code",
   "execution_count": 41,
   "id": "a2d66187-fb49-4c3b-ab66-4ccf0543e3ce",
   "metadata": {},
   "outputs": [],
   "source": [
    "# Importing the libraries\n",
    "import pandas as pd\n",
    "import seaborn as sns\n",
    "import matplotlib.pyplot as plt\n"
   ]
  },
  {
   "cell_type": "code",
   "execution_count": 25,
   "id": "2d796ff9-f382-45a6-b3a8-c34ff3549684",
   "metadata": {},
   "outputs": [],
   "source": [
    "# Loading dataset\n",
    "data = pd.read_csv(r\"C:\\Users\\Admin\\Desktop\\Projects\\Python\\Netflix\\netflix_datafile.csv\")"
   ]
  },
  {
   "cell_type": "code",
   "execution_count": 26,
   "id": "b07f1a6f-be7b-4b7a-886f-392b6493978a",
   "metadata": {},
   "outputs": [
    {
     "data": {
      "text/html": [
       "<div>\n",
       "<style scoped>\n",
       "    .dataframe tbody tr th:only-of-type {\n",
       "        vertical-align: middle;\n",
       "    }\n",
       "\n",
       "    .dataframe tbody tr th {\n",
       "        vertical-align: top;\n",
       "    }\n",
       "\n",
       "    .dataframe thead th {\n",
       "        text-align: right;\n",
       "    }\n",
       "</style>\n",
       "<table border=\"1\" class=\"dataframe\">\n",
       "  <thead>\n",
       "    <tr style=\"text-align: right;\">\n",
       "      <th></th>\n",
       "      <th>Show_Id</th>\n",
       "      <th>Category</th>\n",
       "      <th>Title</th>\n",
       "      <th>Director</th>\n",
       "      <th>Cast</th>\n",
       "      <th>Country</th>\n",
       "      <th>Release_Date</th>\n",
       "      <th>Rating</th>\n",
       "      <th>Duration</th>\n",
       "      <th>Type</th>\n",
       "      <th>Description</th>\n",
       "    </tr>\n",
       "  </thead>\n",
       "  <tbody>\n",
       "    <tr>\n",
       "      <th>0</th>\n",
       "      <td>s1</td>\n",
       "      <td>TV Show</td>\n",
       "      <td>3%</td>\n",
       "      <td>NaN</td>\n",
       "      <td>João Miguel, Bianca Comparato, Michel Gomes, R...</td>\n",
       "      <td>Brazil</td>\n",
       "      <td>August 14, 2020</td>\n",
       "      <td>TV-MA</td>\n",
       "      <td>4 Seasons</td>\n",
       "      <td>International TV Shows, TV Dramas, TV Sci-Fi &amp;...</td>\n",
       "      <td>In a future where the elite inhabit an island ...</td>\n",
       "    </tr>\n",
       "    <tr>\n",
       "      <th>1</th>\n",
       "      <td>s2</td>\n",
       "      <td>Movie</td>\n",
       "      <td>07:19</td>\n",
       "      <td>Jorge Michel Grau</td>\n",
       "      <td>Demián Bichir, Héctor Bonilla, Oscar Serrano, ...</td>\n",
       "      <td>Mexico</td>\n",
       "      <td>December 23, 2016</td>\n",
       "      <td>TV-MA</td>\n",
       "      <td>93 min</td>\n",
       "      <td>Dramas, International Movies</td>\n",
       "      <td>After a devastating earthquake hits Mexico Cit...</td>\n",
       "    </tr>\n",
       "    <tr>\n",
       "      <th>2</th>\n",
       "      <td>s3</td>\n",
       "      <td>Movie</td>\n",
       "      <td>23:59</td>\n",
       "      <td>Gilbert Chan</td>\n",
       "      <td>Tedd Chan, Stella Chung, Henley Hii, Lawrence ...</td>\n",
       "      <td>Singapore</td>\n",
       "      <td>December 20, 2018</td>\n",
       "      <td>R</td>\n",
       "      <td>78 min</td>\n",
       "      <td>Horror Movies, International Movies</td>\n",
       "      <td>When an army recruit is found dead, his fellow...</td>\n",
       "    </tr>\n",
       "    <tr>\n",
       "      <th>3</th>\n",
       "      <td>s4</td>\n",
       "      <td>Movie</td>\n",
       "      <td>9</td>\n",
       "      <td>Shane Acker</td>\n",
       "      <td>Elijah Wood, John C. Reilly, Jennifer Connelly...</td>\n",
       "      <td>United States</td>\n",
       "      <td>November 16, 2017</td>\n",
       "      <td>PG-13</td>\n",
       "      <td>80 min</td>\n",
       "      <td>Action &amp; Adventure, Independent Movies, Sci-Fi...</td>\n",
       "      <td>In a postapocalyptic world, rag-doll robots hi...</td>\n",
       "    </tr>\n",
       "    <tr>\n",
       "      <th>4</th>\n",
       "      <td>s5</td>\n",
       "      <td>Movie</td>\n",
       "      <td>21</td>\n",
       "      <td>Robert Luketic</td>\n",
       "      <td>Jim Sturgess, Kevin Spacey, Kate Bosworth, Aar...</td>\n",
       "      <td>United States</td>\n",
       "      <td>January 1, 2020</td>\n",
       "      <td>PG-13</td>\n",
       "      <td>123 min</td>\n",
       "      <td>Dramas</td>\n",
       "      <td>A brilliant group of students become card-coun...</td>\n",
       "    </tr>\n",
       "    <tr>\n",
       "      <th>...</th>\n",
       "      <td>...</td>\n",
       "      <td>...</td>\n",
       "      <td>...</td>\n",
       "      <td>...</td>\n",
       "      <td>...</td>\n",
       "      <td>...</td>\n",
       "      <td>...</td>\n",
       "      <td>...</td>\n",
       "      <td>...</td>\n",
       "      <td>...</td>\n",
       "      <td>...</td>\n",
       "    </tr>\n",
       "    <tr>\n",
       "      <th>7784</th>\n",
       "      <td>s7783</td>\n",
       "      <td>Movie</td>\n",
       "      <td>Zozo</td>\n",
       "      <td>Josef Fares</td>\n",
       "      <td>Imad Creidi, Antoinette Turk, Elias Gergi, Car...</td>\n",
       "      <td>Sweden, Czech Republic, United Kingdom, Denmar...</td>\n",
       "      <td>October 19, 2020</td>\n",
       "      <td>TV-MA</td>\n",
       "      <td>99 min</td>\n",
       "      <td>Dramas, International Movies</td>\n",
       "      <td>When Lebanon's Civil War deprives Zozo of his ...</td>\n",
       "    </tr>\n",
       "    <tr>\n",
       "      <th>7785</th>\n",
       "      <td>s7784</td>\n",
       "      <td>Movie</td>\n",
       "      <td>Zubaan</td>\n",
       "      <td>Mozez Singh</td>\n",
       "      <td>Vicky Kaushal, Sarah-Jane Dias, Raaghav Chanan...</td>\n",
       "      <td>India</td>\n",
       "      <td>March 2, 2019</td>\n",
       "      <td>TV-14</td>\n",
       "      <td>111 min</td>\n",
       "      <td>Dramas, International Movies, Music &amp; Musicals</td>\n",
       "      <td>A scrappy but poor boy worms his way into a ty...</td>\n",
       "    </tr>\n",
       "    <tr>\n",
       "      <th>7786</th>\n",
       "      <td>s7785</td>\n",
       "      <td>Movie</td>\n",
       "      <td>Zulu Man in Japan</td>\n",
       "      <td>NaN</td>\n",
       "      <td>Nasty C</td>\n",
       "      <td>NaN</td>\n",
       "      <td>September 25, 2020</td>\n",
       "      <td>TV-MA</td>\n",
       "      <td>44 min</td>\n",
       "      <td>Documentaries, International Movies, Music &amp; M...</td>\n",
       "      <td>In this documentary, South African rapper Nast...</td>\n",
       "    </tr>\n",
       "    <tr>\n",
       "      <th>7787</th>\n",
       "      <td>s7786</td>\n",
       "      <td>TV Show</td>\n",
       "      <td>Zumbo's Just Desserts</td>\n",
       "      <td>NaN</td>\n",
       "      <td>Adriano Zumbo, Rachel Khoo</td>\n",
       "      <td>Australia</td>\n",
       "      <td>October 31, 2020</td>\n",
       "      <td>TV-PG</td>\n",
       "      <td>1 Season</td>\n",
       "      <td>International TV Shows, Reality TV</td>\n",
       "      <td>Dessert wizard Adriano Zumbo looks for the nex...</td>\n",
       "    </tr>\n",
       "    <tr>\n",
       "      <th>7788</th>\n",
       "      <td>s7787</td>\n",
       "      <td>Movie</td>\n",
       "      <td>ZZ TOP: THAT LITTLE OL' BAND FROM TEXAS</td>\n",
       "      <td>Sam Dunn</td>\n",
       "      <td>NaN</td>\n",
       "      <td>United Kingdom, Canada, United States</td>\n",
       "      <td>March 1, 2020</td>\n",
       "      <td>TV-MA</td>\n",
       "      <td>90 min</td>\n",
       "      <td>Documentaries, Music &amp; Musicals</td>\n",
       "      <td>This documentary delves into the mystique behi...</td>\n",
       "    </tr>\n",
       "  </tbody>\n",
       "</table>\n",
       "<p>7789 rows × 11 columns</p>\n",
       "</div>"
      ],
      "text/plain": [
       "     Show_Id Category                                    Title  \\\n",
       "0         s1  TV Show                                       3%   \n",
       "1         s2    Movie                                    07:19   \n",
       "2         s3    Movie                                    23:59   \n",
       "3         s4    Movie                                        9   \n",
       "4         s5    Movie                                       21   \n",
       "...      ...      ...                                      ...   \n",
       "7784   s7783    Movie                                     Zozo   \n",
       "7785   s7784    Movie                                   Zubaan   \n",
       "7786   s7785    Movie                        Zulu Man in Japan   \n",
       "7787   s7786  TV Show                    Zumbo's Just Desserts   \n",
       "7788   s7787    Movie  ZZ TOP: THAT LITTLE OL' BAND FROM TEXAS   \n",
       "\n",
       "               Director                                               Cast  \\\n",
       "0                   NaN  João Miguel, Bianca Comparato, Michel Gomes, R...   \n",
       "1     Jorge Michel Grau  Demián Bichir, Héctor Bonilla, Oscar Serrano, ...   \n",
       "2          Gilbert Chan  Tedd Chan, Stella Chung, Henley Hii, Lawrence ...   \n",
       "3           Shane Acker  Elijah Wood, John C. Reilly, Jennifer Connelly...   \n",
       "4        Robert Luketic  Jim Sturgess, Kevin Spacey, Kate Bosworth, Aar...   \n",
       "...                 ...                                                ...   \n",
       "7784        Josef Fares  Imad Creidi, Antoinette Turk, Elias Gergi, Car...   \n",
       "7785        Mozez Singh  Vicky Kaushal, Sarah-Jane Dias, Raaghav Chanan...   \n",
       "7786                NaN                                            Nasty C   \n",
       "7787                NaN                         Adriano Zumbo, Rachel Khoo   \n",
       "7788           Sam Dunn                                                NaN   \n",
       "\n",
       "                                                Country        Release_Date  \\\n",
       "0                                                Brazil     August 14, 2020   \n",
       "1                                                Mexico   December 23, 2016   \n",
       "2                                             Singapore   December 20, 2018   \n",
       "3                                         United States   November 16, 2017   \n",
       "4                                         United States     January 1, 2020   \n",
       "...                                                 ...                 ...   \n",
       "7784  Sweden, Czech Republic, United Kingdom, Denmar...    October 19, 2020   \n",
       "7785                                              India       March 2, 2019   \n",
       "7786                                                NaN  September 25, 2020   \n",
       "7787                                          Australia    October 31, 2020   \n",
       "7788              United Kingdom, Canada, United States       March 1, 2020   \n",
       "\n",
       "     Rating   Duration                                               Type  \\\n",
       "0     TV-MA  4 Seasons  International TV Shows, TV Dramas, TV Sci-Fi &...   \n",
       "1     TV-MA     93 min                       Dramas, International Movies   \n",
       "2         R     78 min                Horror Movies, International Movies   \n",
       "3     PG-13     80 min  Action & Adventure, Independent Movies, Sci-Fi...   \n",
       "4     PG-13    123 min                                             Dramas   \n",
       "...     ...        ...                                                ...   \n",
       "7784  TV-MA     99 min                       Dramas, International Movies   \n",
       "7785  TV-14    111 min     Dramas, International Movies, Music & Musicals   \n",
       "7786  TV-MA     44 min  Documentaries, International Movies, Music & M...   \n",
       "7787  TV-PG   1 Season                 International TV Shows, Reality TV   \n",
       "7788  TV-MA     90 min                    Documentaries, Music & Musicals   \n",
       "\n",
       "                                            Description  \n",
       "0     In a future where the elite inhabit an island ...  \n",
       "1     After a devastating earthquake hits Mexico Cit...  \n",
       "2     When an army recruit is found dead, his fellow...  \n",
       "3     In a postapocalyptic world, rag-doll robots hi...  \n",
       "4     A brilliant group of students become card-coun...  \n",
       "...                                                 ...  \n",
       "7784  When Lebanon's Civil War deprives Zozo of his ...  \n",
       "7785  A scrappy but poor boy worms his way into a ty...  \n",
       "7786  In this documentary, South African rapper Nast...  \n",
       "7787  Dessert wizard Adriano Zumbo looks for the nex...  \n",
       "7788  This documentary delves into the mystique behi...  \n",
       "\n",
       "[7789 rows x 11 columns]"
      ]
     },
     "execution_count": 26,
     "metadata": {},
     "output_type": "execute_result"
    }
   ],
   "source": [
    "data"
   ]
  },
  {
   "cell_type": "markdown",
   "id": "ec48c8cc-b93e-462f-b229-d4c0680f1a76",
   "metadata": {},
   "source": [
    "### Exploratory Data Analysis"
   ]
  },
  {
   "cell_type": "code",
   "execution_count": 7,
   "id": "7d17ee14-8e8a-4428-b2e3-f571e5182dd1",
   "metadata": {},
   "outputs": [
    {
     "data": {
      "text/plain": [
       "(7789, 11)"
      ]
     },
     "execution_count": 7,
     "metadata": {},
     "output_type": "execute_result"
    }
   ],
   "source": [
    "# No of rows and Columns\n",
    "data.shape"
   ]
  },
  {
   "cell_type": "code",
   "execution_count": 8,
   "id": "ed096d4f-7e4a-4def-9496-0cf1292e8e98",
   "metadata": {},
   "outputs": [
    {
     "data": {
      "text/plain": [
       "85679"
      ]
     },
     "execution_count": 8,
     "metadata": {},
     "output_type": "execute_result"
    }
   ],
   "source": [
    "# No of total values(elements) in a dataset\n",
    "data.size"
   ]
  },
  {
   "cell_type": "code",
   "execution_count": 9,
   "id": "3fd1c052-5fad-44a7-995e-3fea66e2886f",
   "metadata": {},
   "outputs": [
    {
     "data": {
      "text/plain": [
       "Index(['Show_Id', 'Category', 'Title', 'Director', 'Cast', 'Country',\n",
       "       'Release_Date', 'Rating', 'Duration', 'Type', 'Description'],\n",
       "      dtype='object')"
      ]
     },
     "execution_count": 9,
     "metadata": {},
     "output_type": "execute_result"
    }
   ],
   "source": [
    "# Show each column names\n",
    "data.columns"
   ]
  },
  {
   "cell_type": "code",
   "execution_count": 12,
   "id": "bf640832-e2a4-4159-a888-bf65006bd2de",
   "metadata": {},
   "outputs": [
    {
     "data": {
      "text/plain": [
       "Show_Id         object\n",
       "Category        object\n",
       "Title           object\n",
       "Director        object\n",
       "Cast            object\n",
       "Country         object\n",
       "Release_Date    object\n",
       "Rating          object\n",
       "Duration        object\n",
       "Type            object\n",
       "Description     object\n",
       "dtype: object"
      ]
     },
     "execution_count": 12,
     "metadata": {},
     "output_type": "execute_result"
    }
   ],
   "source": [
    "# Data type of each column\n",
    "\n",
    "data.dtypes"
   ]
  },
  {
   "cell_type": "code",
   "execution_count": 14,
   "id": "63cce9a6-01a2-4092-afa2-1a4dd6ed4699",
   "metadata": {},
   "outputs": [
    {
     "name": "stdout",
     "output_type": "stream",
     "text": [
      "<class 'pandas.core.frame.DataFrame'>\n",
      "RangeIndex: 7789 entries, 0 to 7788\n",
      "Data columns (total 11 columns):\n",
      " #   Column        Non-Null Count  Dtype \n",
      "---  ------        --------------  ----- \n",
      " 0   Show_Id       7789 non-null   object\n",
      " 1   Category      7789 non-null   object\n",
      " 2   Title         7789 non-null   object\n",
      " 3   Director      5401 non-null   object\n",
      " 4   Cast          7071 non-null   object\n",
      " 5   Country       7282 non-null   object\n",
      " 6   Release_Date  7779 non-null   object\n",
      " 7   Rating        7782 non-null   object\n",
      " 8   Duration      7789 non-null   object\n",
      " 9   Type          7789 non-null   object\n",
      " 10  Description   7789 non-null   object\n",
      "dtypes: object(11)\n",
      "memory usage: 669.5+ KB\n"
     ]
    }
   ],
   "source": [
    "# show indexes, columns, data-types of each column, memory at once\n",
    "data.info()"
   ]
  },
  {
   "cell_type": "markdown",
   "id": "e78917ff-9990-4b5f-9f0f-2c67afcc5943",
   "metadata": {},
   "source": [
    "#### Finding and handling duplicate values"
   ]
  },
  {
   "cell_type": "code",
   "execution_count": 27,
   "id": "7b022b0c-7cd0-495f-9554-2f1b524be83b",
   "metadata": {},
   "outputs": [
    {
     "data": {
      "text/html": [
       "<div>\n",
       "<style scoped>\n",
       "    .dataframe tbody tr th:only-of-type {\n",
       "        vertical-align: middle;\n",
       "    }\n",
       "\n",
       "    .dataframe tbody tr th {\n",
       "        vertical-align: top;\n",
       "    }\n",
       "\n",
       "    .dataframe thead th {\n",
       "        text-align: right;\n",
       "    }\n",
       "</style>\n",
       "<table border=\"1\" class=\"dataframe\">\n",
       "  <thead>\n",
       "    <tr style=\"text-align: right;\">\n",
       "      <th></th>\n",
       "      <th>Show_Id</th>\n",
       "      <th>Category</th>\n",
       "      <th>Title</th>\n",
       "      <th>Director</th>\n",
       "      <th>Cast</th>\n",
       "      <th>Country</th>\n",
       "      <th>Release_Date</th>\n",
       "      <th>Rating</th>\n",
       "      <th>Duration</th>\n",
       "      <th>Type</th>\n",
       "      <th>Description</th>\n",
       "    </tr>\n",
       "  </thead>\n",
       "  <tbody>\n",
       "    <tr>\n",
       "      <th>6300</th>\n",
       "      <td>s684</td>\n",
       "      <td>Movie</td>\n",
       "      <td>Backfire</td>\n",
       "      <td>Dave Patten</td>\n",
       "      <td>Black Deniro, Byron \"Squally\" Vinson, Dominic ...</td>\n",
       "      <td>United States</td>\n",
       "      <td>April 5, 2019</td>\n",
       "      <td>TV-MA</td>\n",
       "      <td>97 min</td>\n",
       "      <td>Dramas, Independent Movies, Thrillers</td>\n",
       "      <td>When two would-be robbers accidentally kill a ...</td>\n",
       "    </tr>\n",
       "    <tr>\n",
       "      <th>6622</th>\n",
       "      <td>s6621</td>\n",
       "      <td>Movie</td>\n",
       "      <td>The Lost Okoroshi</td>\n",
       "      <td>Abba T. Makama</td>\n",
       "      <td>Seun Ajayi, Judith Audu, Tope Tedela, Ifu Enna...</td>\n",
       "      <td>Nigeria</td>\n",
       "      <td>September 4, 2020</td>\n",
       "      <td>TV-MA</td>\n",
       "      <td>94 min</td>\n",
       "      <td>Comedies, Dramas, Independent Movies</td>\n",
       "      <td>A disillusioned security guard transforms into...</td>\n",
       "    </tr>\n",
       "  </tbody>\n",
       "</table>\n",
       "</div>"
      ],
      "text/plain": [
       "     Show_Id Category              Title        Director  \\\n",
       "6300    s684    Movie           Backfire     Dave Patten   \n",
       "6622   s6621    Movie  The Lost Okoroshi  Abba T. Makama   \n",
       "\n",
       "                                                   Cast        Country  \\\n",
       "6300  Black Deniro, Byron \"Squally\" Vinson, Dominic ...  United States   \n",
       "6622  Seun Ajayi, Judith Audu, Tope Tedela, Ifu Enna...        Nigeria   \n",
       "\n",
       "           Release_Date Rating Duration  \\\n",
       "6300      April 5, 2019  TV-MA   97 min   \n",
       "6622  September 4, 2020  TV-MA   94 min   \n",
       "\n",
       "                                       Type  \\\n",
       "6300  Dramas, Independent Movies, Thrillers   \n",
       "6622   Comedies, Dramas, Independent Movies   \n",
       "\n",
       "                                            Description  \n",
       "6300  When two would-be robbers accidentally kill a ...  \n",
       "6622  A disillusioned security guard transforms into...  "
      ]
     },
     "execution_count": 27,
     "metadata": {},
     "output_type": "execute_result"
    }
   ],
   "source": [
    "# Finding list of duplicates\n",
    "data[data.duplicated()]"
   ]
  },
  {
   "cell_type": "markdown",
   "id": "a67e65b4-3e73-4073-a44b-592b356649e3",
   "metadata": {},
   "source": [
    "##### 2 Duplicated records found so we'll remove them"
   ]
  },
  {
   "cell_type": "code",
   "execution_count": 29,
   "id": "926ed7f1-3f2e-4575-8b2d-3f19ccd7c2ac",
   "metadata": {},
   "outputs": [],
   "source": [
    "# Removing duplicated records\n",
    "    # Inplace make changes in the original dataset\n",
    "data.drop_duplicates(inplace=True)"
   ]
  },
  {
   "cell_type": "code",
   "execution_count": 31,
   "id": "fcb4fc09-4399-43d3-acdf-8ef4f81d847f",
   "metadata": {},
   "outputs": [
    {
     "data": {
      "text/plain": [
       "(7787, 11)"
      ]
     },
     "execution_count": 31,
     "metadata": {},
     "output_type": "execute_result"
    }
   ],
   "source": [
    "data.shape"
   ]
  },
  {
   "cell_type": "markdown",
   "id": "35ea18e9-3ad1-471c-adb4-6783cd85a2a1",
   "metadata": {},
   "source": [
    "Two duplicated values dropped from dataset"
   ]
  },
  {
   "cell_type": "code",
   "execution_count": 33,
   "id": "0634bff9-55bf-4f67-b106-e17a16ad0d64",
   "metadata": {},
   "outputs": [
    {
     "data": {
      "text/html": [
       "<div>\n",
       "<style scoped>\n",
       "    .dataframe tbody tr th:only-of-type {\n",
       "        vertical-align: middle;\n",
       "    }\n",
       "\n",
       "    .dataframe tbody tr th {\n",
       "        vertical-align: top;\n",
       "    }\n",
       "\n",
       "    .dataframe thead th {\n",
       "        text-align: right;\n",
       "    }\n",
       "</style>\n",
       "<table border=\"1\" class=\"dataframe\">\n",
       "  <thead>\n",
       "    <tr style=\"text-align: right;\">\n",
       "      <th></th>\n",
       "      <th>Show_Id</th>\n",
       "      <th>Category</th>\n",
       "      <th>Title</th>\n",
       "      <th>Director</th>\n",
       "      <th>Cast</th>\n",
       "      <th>Country</th>\n",
       "      <th>Release_Date</th>\n",
       "      <th>Rating</th>\n",
       "      <th>Duration</th>\n",
       "      <th>Type</th>\n",
       "      <th>Description</th>\n",
       "    </tr>\n",
       "  </thead>\n",
       "  <tbody>\n",
       "  </tbody>\n",
       "</table>\n",
       "</div>"
      ],
      "text/plain": [
       "Empty DataFrame\n",
       "Columns: [Show_Id, Category, Title, Director, Cast, Country, Release_Date, Rating, Duration, Type, Description]\n",
       "Index: []"
      ]
     },
     "execution_count": 33,
     "metadata": {},
     "output_type": "execute_result"
    }
   ],
   "source": [
    "data[data.duplicated()]"
   ]
  },
  {
   "cell_type": "markdown",
   "id": "c5327abf-5afc-4118-8866-e7e5cb4966e5",
   "metadata": {},
   "source": [
    "#### Finding missing or null values"
   ]
  },
  {
   "cell_type": "code",
   "execution_count": 43,
   "id": "d4eaa4df-e72f-46c9-b15c-e333483a9d1b",
   "metadata": {},
   "outputs": [
    {
     "data": {
      "text/html": [
       "<div>\n",
       "<style scoped>\n",
       "    .dataframe tbody tr th:only-of-type {\n",
       "        vertical-align: middle;\n",
       "    }\n",
       "\n",
       "    .dataframe tbody tr th {\n",
       "        vertical-align: top;\n",
       "    }\n",
       "\n",
       "    .dataframe thead th {\n",
       "        text-align: right;\n",
       "    }\n",
       "</style>\n",
       "<table border=\"1\" class=\"dataframe\">\n",
       "  <thead>\n",
       "    <tr style=\"text-align: right;\">\n",
       "      <th></th>\n",
       "      <th>Show_Id</th>\n",
       "      <th>Category</th>\n",
       "      <th>Title</th>\n",
       "      <th>Director</th>\n",
       "      <th>Cast</th>\n",
       "      <th>Country</th>\n",
       "      <th>Release_Date</th>\n",
       "      <th>Rating</th>\n",
       "      <th>Duration</th>\n",
       "      <th>Type</th>\n",
       "      <th>Description</th>\n",
       "    </tr>\n",
       "  </thead>\n",
       "  <tbody>\n",
       "    <tr>\n",
       "      <th>0</th>\n",
       "      <td>False</td>\n",
       "      <td>False</td>\n",
       "      <td>False</td>\n",
       "      <td>True</td>\n",
       "      <td>False</td>\n",
       "      <td>False</td>\n",
       "      <td>False</td>\n",
       "      <td>False</td>\n",
       "      <td>False</td>\n",
       "      <td>False</td>\n",
       "      <td>False</td>\n",
       "    </tr>\n",
       "    <tr>\n",
       "      <th>1</th>\n",
       "      <td>False</td>\n",
       "      <td>False</td>\n",
       "      <td>False</td>\n",
       "      <td>False</td>\n",
       "      <td>False</td>\n",
       "      <td>False</td>\n",
       "      <td>False</td>\n",
       "      <td>False</td>\n",
       "      <td>False</td>\n",
       "      <td>False</td>\n",
       "      <td>False</td>\n",
       "    </tr>\n",
       "    <tr>\n",
       "      <th>2</th>\n",
       "      <td>False</td>\n",
       "      <td>False</td>\n",
       "      <td>False</td>\n",
       "      <td>False</td>\n",
       "      <td>False</td>\n",
       "      <td>False</td>\n",
       "      <td>False</td>\n",
       "      <td>False</td>\n",
       "      <td>False</td>\n",
       "      <td>False</td>\n",
       "      <td>False</td>\n",
       "    </tr>\n",
       "    <tr>\n",
       "      <th>3</th>\n",
       "      <td>False</td>\n",
       "      <td>False</td>\n",
       "      <td>False</td>\n",
       "      <td>False</td>\n",
       "      <td>False</td>\n",
       "      <td>False</td>\n",
       "      <td>False</td>\n",
       "      <td>False</td>\n",
       "      <td>False</td>\n",
       "      <td>False</td>\n",
       "      <td>False</td>\n",
       "    </tr>\n",
       "    <tr>\n",
       "      <th>4</th>\n",
       "      <td>False</td>\n",
       "      <td>False</td>\n",
       "      <td>False</td>\n",
       "      <td>False</td>\n",
       "      <td>False</td>\n",
       "      <td>False</td>\n",
       "      <td>False</td>\n",
       "      <td>False</td>\n",
       "      <td>False</td>\n",
       "      <td>False</td>\n",
       "      <td>False</td>\n",
       "    </tr>\n",
       "    <tr>\n",
       "      <th>...</th>\n",
       "      <td>...</td>\n",
       "      <td>...</td>\n",
       "      <td>...</td>\n",
       "      <td>...</td>\n",
       "      <td>...</td>\n",
       "      <td>...</td>\n",
       "      <td>...</td>\n",
       "      <td>...</td>\n",
       "      <td>...</td>\n",
       "      <td>...</td>\n",
       "      <td>...</td>\n",
       "    </tr>\n",
       "    <tr>\n",
       "      <th>7784</th>\n",
       "      <td>False</td>\n",
       "      <td>False</td>\n",
       "      <td>False</td>\n",
       "      <td>False</td>\n",
       "      <td>False</td>\n",
       "      <td>False</td>\n",
       "      <td>False</td>\n",
       "      <td>False</td>\n",
       "      <td>False</td>\n",
       "      <td>False</td>\n",
       "      <td>False</td>\n",
       "    </tr>\n",
       "    <tr>\n",
       "      <th>7785</th>\n",
       "      <td>False</td>\n",
       "      <td>False</td>\n",
       "      <td>False</td>\n",
       "      <td>False</td>\n",
       "      <td>False</td>\n",
       "      <td>False</td>\n",
       "      <td>False</td>\n",
       "      <td>False</td>\n",
       "      <td>False</td>\n",
       "      <td>False</td>\n",
       "      <td>False</td>\n",
       "    </tr>\n",
       "    <tr>\n",
       "      <th>7786</th>\n",
       "      <td>False</td>\n",
       "      <td>False</td>\n",
       "      <td>False</td>\n",
       "      <td>True</td>\n",
       "      <td>False</td>\n",
       "      <td>True</td>\n",
       "      <td>False</td>\n",
       "      <td>False</td>\n",
       "      <td>False</td>\n",
       "      <td>False</td>\n",
       "      <td>False</td>\n",
       "    </tr>\n",
       "    <tr>\n",
       "      <th>7787</th>\n",
       "      <td>False</td>\n",
       "      <td>False</td>\n",
       "      <td>False</td>\n",
       "      <td>True</td>\n",
       "      <td>False</td>\n",
       "      <td>False</td>\n",
       "      <td>False</td>\n",
       "      <td>False</td>\n",
       "      <td>False</td>\n",
       "      <td>False</td>\n",
       "      <td>False</td>\n",
       "    </tr>\n",
       "    <tr>\n",
       "      <th>7788</th>\n",
       "      <td>False</td>\n",
       "      <td>False</td>\n",
       "      <td>False</td>\n",
       "      <td>False</td>\n",
       "      <td>True</td>\n",
       "      <td>False</td>\n",
       "      <td>False</td>\n",
       "      <td>False</td>\n",
       "      <td>False</td>\n",
       "      <td>False</td>\n",
       "      <td>False</td>\n",
       "    </tr>\n",
       "  </tbody>\n",
       "</table>\n",
       "<p>7787 rows × 11 columns</p>\n",
       "</div>"
      ],
      "text/plain": [
       "      Show_Id  Category  Title  Director   Cast  Country  Release_Date  \\\n",
       "0       False     False  False      True  False    False         False   \n",
       "1       False     False  False     False  False    False         False   \n",
       "2       False     False  False     False  False    False         False   \n",
       "3       False     False  False     False  False    False         False   \n",
       "4       False     False  False     False  False    False         False   \n",
       "...       ...       ...    ...       ...    ...      ...           ...   \n",
       "7784    False     False  False     False  False    False         False   \n",
       "7785    False     False  False     False  False    False         False   \n",
       "7786    False     False  False      True  False     True         False   \n",
       "7787    False     False  False      True  False    False         False   \n",
       "7788    False     False  False     False   True    False         False   \n",
       "\n",
       "      Rating  Duration   Type  Description  \n",
       "0      False     False  False        False  \n",
       "1      False     False  False        False  \n",
       "2      False     False  False        False  \n",
       "3      False     False  False        False  \n",
       "4      False     False  False        False  \n",
       "...      ...       ...    ...          ...  \n",
       "7784   False     False  False        False  \n",
       "7785   False     False  False        False  \n",
       "7786   False     False  False        False  \n",
       "7787   False     False  False        False  \n",
       "7788   False     False  False        False  \n",
       "\n",
       "[7787 rows x 11 columns]"
      ]
     },
     "execution_count": 43,
     "metadata": {},
     "output_type": "execute_result"
    }
   ],
   "source": [
    "data.isnull()"
   ]
  },
  {
   "cell_type": "code",
   "execution_count": 44,
   "id": "e65b5f09-23c6-4e31-bb94-bf5a31a8f812",
   "metadata": {},
   "outputs": [
    {
     "data": {
      "text/plain": [
       "Show_Id            0\n",
       "Category           0\n",
       "Title              0\n",
       "Director        2388\n",
       "Cast             718\n",
       "Country          507\n",
       "Release_Date      10\n",
       "Rating             7\n",
       "Duration           0\n",
       "Type               0\n",
       "Description        0\n",
       "dtype: int64"
      ]
     },
     "execution_count": 44,
     "metadata": {},
     "output_type": "execute_result"
    }
   ],
   "source": [
    "# Count of total null values in each column\n",
    "data.isnull().sum()"
   ]
  },
  {
   "cell_type": "code",
   "execution_count": 50,
   "id": "4fd97e38-4458-49ea-a647-2c7452ebf109",
   "metadata": {},
   "outputs": [
    {
     "data": {
      "text/plain": [
       "<Axes: >"
      ]
     },
     "execution_count": 50,
     "metadata": {},
     "output_type": "execute_result"
    },
    {
     "data": {
      "image/png": "[encoded data removed]",
      "text/plain": [
       "<Figure size 500x300 with 1 Axes>"
      ]
     },
     "metadata": {},
     "output_type": "display_data"
    }
   ],
   "source": [
    "# showing null values using heatmap\n",
    "plt.figure(figsize=(5,3))\n",
    "sns.heatmap(data.isnull(), yticklabels=False, cmap=\"magma\", cbar=False)"
   ]
  },
  {
   "cell_type": "markdown",
   "id": "e7d79ae1-852d-4999-9995-301cd9e4beb7",
   "metadata": {},
   "source": [
    "'Director' column has max number of null values followed by 'Cast', 'Country', 'Release_Date', and 'Rating'. Well handle them based on the business requirements"
   ]
  },
  {
   "cell_type": "markdown",
   "id": "1881400f-d9f6-4c74-925a-f9de259881eb",
   "metadata": {},
   "source": [
    "### Data Insights"
   ]
  },
  {
   "cell_type": "code",
   "execution_count": 51,
   "id": "1d1d4c70-88e3-47ea-b713-73b6dc9c18d6",
   "metadata": {},
   "outputs": [
    {
     "data": {
      "text/html": [
       "<div>\n",
       "<style scoped>\n",
       "    .dataframe tbody tr th:only-of-type {\n",
       "        vertical-align: middle;\n",
       "    }\n",
       "\n",
       "    .dataframe tbody tr th {\n",
       "        vertical-align: top;\n",
       "    }\n",
       "\n",
       "    .dataframe thead th {\n",
       "        text-align: right;\n",
       "    }\n",
       "</style>\n",
       "<table border=\"1\" class=\"dataframe\">\n",
       "  <thead>\n",
       "    <tr style=\"text-align: right;\">\n",
       "      <th></th>\n",
       "      <th>Show_Id</th>\n",
       "      <th>Category</th>\n",
       "      <th>Title</th>\n",
       "      <th>Director</th>\n",
       "      <th>Cast</th>\n",
       "      <th>Country</th>\n",
       "      <th>Release_Date</th>\n",
       "      <th>Rating</th>\n",
       "      <th>Duration</th>\n",
       "      <th>Type</th>\n",
       "      <th>Description</th>\n",
       "    </tr>\n",
       "  </thead>\n",
       "  <tbody>\n",
       "    <tr>\n",
       "      <th>0</th>\n",
       "      <td>s1</td>\n",
       "      <td>TV Show</td>\n",
       "      <td>3%</td>\n",
       "      <td>NaN</td>\n",
       "      <td>João Miguel, Bianca Comparato, Michel Gomes, R...</td>\n",
       "      <td>Brazil</td>\n",
       "      <td>August 14, 2020</td>\n",
       "      <td>TV-MA</td>\n",
       "      <td>4 Seasons</td>\n",
       "      <td>International TV Shows, TV Dramas, TV Sci-Fi &amp;...</td>\n",
       "      <td>In a future where the elite inhabit an island ...</td>\n",
       "    </tr>\n",
       "    <tr>\n",
       "      <th>1</th>\n",
       "      <td>s2</td>\n",
       "      <td>Movie</td>\n",
       "      <td>07:19</td>\n",
       "      <td>Jorge Michel Grau</td>\n",
       "      <td>Demián Bichir, Héctor Bonilla, Oscar Serrano, ...</td>\n",
       "      <td>Mexico</td>\n",
       "      <td>December 23, 2016</td>\n",
       "      <td>TV-MA</td>\n",
       "      <td>93 min</td>\n",
       "      <td>Dramas, International Movies</td>\n",
       "      <td>After a devastating earthquake hits Mexico Cit...</td>\n",
       "    </tr>\n",
       "    <tr>\n",
       "      <th>2</th>\n",
       "      <td>s3</td>\n",
       "      <td>Movie</td>\n",
       "      <td>23:59</td>\n",
       "      <td>Gilbert Chan</td>\n",
       "      <td>Tedd Chan, Stella Chung, Henley Hii, Lawrence ...</td>\n",
       "      <td>Singapore</td>\n",
       "      <td>December 20, 2018</td>\n",
       "      <td>R</td>\n",
       "      <td>78 min</td>\n",
       "      <td>Horror Movies, International Movies</td>\n",
       "      <td>When an army recruit is found dead, his fellow...</td>\n",
       "    </tr>\n",
       "    <tr>\n",
       "      <th>3</th>\n",
       "      <td>s4</td>\n",
       "      <td>Movie</td>\n",
       "      <td>9</td>\n",
       "      <td>Shane Acker</td>\n",
       "      <td>Elijah Wood, John C. Reilly, Jennifer Connelly...</td>\n",
       "      <td>United States</td>\n",
       "      <td>November 16, 2017</td>\n",
       "      <td>PG-13</td>\n",
       "      <td>80 min</td>\n",
       "      <td>Action &amp; Adventure, Independent Movies, Sci-Fi...</td>\n",
       "      <td>In a postapocalyptic world, rag-doll robots hi...</td>\n",
       "    </tr>\n",
       "    <tr>\n",
       "      <th>4</th>\n",
       "      <td>s5</td>\n",
       "      <td>Movie</td>\n",
       "      <td>21</td>\n",
       "      <td>Robert Luketic</td>\n",
       "      <td>Jim Sturgess, Kevin Spacey, Kate Bosworth, Aar...</td>\n",
       "      <td>United States</td>\n",
       "      <td>January 1, 2020</td>\n",
       "      <td>PG-13</td>\n",
       "      <td>123 min</td>\n",
       "      <td>Dramas</td>\n",
       "      <td>A brilliant group of students become card-coun...</td>\n",
       "    </tr>\n",
       "  </tbody>\n",
       "</table>\n",
       "</div>"
      ],
      "text/plain": [
       "  Show_Id Category  Title           Director  \\\n",
       "0      s1  TV Show     3%                NaN   \n",
       "1      s2    Movie  07:19  Jorge Michel Grau   \n",
       "2      s3    Movie  23:59       Gilbert Chan   \n",
       "3      s4    Movie      9        Shane Acker   \n",
       "4      s5    Movie     21     Robert Luketic   \n",
       "\n",
       "                                                Cast        Country  \\\n",
       "0  João Miguel, Bianca Comparato, Michel Gomes, R...         Brazil   \n",
       "1  Demián Bichir, Héctor Bonilla, Oscar Serrano, ...         Mexico   \n",
       "2  Tedd Chan, Stella Chung, Henley Hii, Lawrence ...      Singapore   \n",
       "3  Elijah Wood, John C. Reilly, Jennifer Connelly...  United States   \n",
       "4  Jim Sturgess, Kevin Spacey, Kate Bosworth, Aar...  United States   \n",
       "\n",
       "        Release_Date Rating   Duration  \\\n",
       "0    August 14, 2020  TV-MA  4 Seasons   \n",
       "1  December 23, 2016  TV-MA     93 min   \n",
       "2  December 20, 2018      R     78 min   \n",
       "3  November 16, 2017  PG-13     80 min   \n",
       "4    January 1, 2020  PG-13    123 min   \n",
       "\n",
       "                                                Type  \\\n",
       "0  International TV Shows, TV Dramas, TV Sci-Fi &...   \n",
       "1                       Dramas, International Movies   \n",
       "2                Horror Movies, International Movies   \n",
       "3  Action & Adventure, Independent Movies, Sci-Fi...   \n",
       "4                                             Dramas   \n",
       "\n",
       "                                         Description  \n",
       "0  In a future where the elite inhabit an island ...  \n",
       "1  After a devastating earthquake hits Mexico Cit...  \n",
       "2  When an army recruit is found dead, his fellow...  \n",
       "3  In a postapocalyptic world, rag-doll robots hi...  \n",
       "4  A brilliant group of students become card-coun...  "
      ]
     },
     "execution_count": 51,
     "metadata": {},
     "output_type": "execute_result"
    }
   ],
   "source": [
    "data.head()"
   ]
  },
  {
   "cell_type": "markdown",
   "id": "132eacc6-09e1-41c6-a9d4-6b00c9ea2aea",
   "metadata": {},
   "source": [
    "Getting info about particular element of dataset"
   ]
  },
  {
   "cell_type": "markdown",
   "id": "21ff0abe-545d-493e-a985-762f82aa4b06",
   "metadata": {},
   "source": [
    "#### 1. For 'House of cards' what is the Show id and who is the Director of this show?"
   ]
  },
  {
   "cell_type": "markdown",
   "id": "c3df7fe2-d9d2-46b5-868f-aa02d8946f94",
   "metadata": {},
   "source": [
    "'''select showid, director\n",
    "from data\n",
    "where title=houseofcards'''"
   ]
  },
  {
   "cell_type": "markdown",
   "id": "2f212174-e347-405d-9ee6-93b5408ca9bc",
   "metadata": {},
   "source": [
    "#### Using .isin()"
   ]
  },
  {
   "cell_type": "code",
   "execution_count": 67,
   "id": "24b2731b-4ed9-4870-ad69-e91645ac9512",
   "metadata": {},
   "outputs": [
    {
     "data": {
      "text/html": [
       "<div>\n",
       "<style scoped>\n",
       "    .dataframe tbody tr th:only-of-type {\n",
       "        vertical-align: middle;\n",
       "    }\n",
       "\n",
       "    .dataframe tbody tr th {\n",
       "        vertical-align: top;\n",
       "    }\n",
       "\n",
       "    .dataframe thead th {\n",
       "        text-align: right;\n",
       "    }\n",
       "</style>\n",
       "<table border=\"1\" class=\"dataframe\">\n",
       "  <thead>\n",
       "    <tr style=\"text-align: right;\">\n",
       "      <th></th>\n",
       "      <th>Title</th>\n",
       "      <th>Show_Id</th>\n",
       "      <th>Director</th>\n",
       "    </tr>\n",
       "  </thead>\n",
       "  <tbody>\n",
       "    <tr>\n",
       "      <th>2832</th>\n",
       "      <td>House of Cards</td>\n",
       "      <td>s2833</td>\n",
       "      <td>Robin Wright, David Fincher, Gerald McRaney, J...</td>\n",
       "    </tr>\n",
       "  </tbody>\n",
       "</table>\n",
       "</div>"
      ],
      "text/plain": [
       "               Title Show_Id  \\\n",
       "2832  House of Cards   s2833   \n",
       "\n",
       "                                               Director  \n",
       "2832  Robin Wright, David Fincher, Gerald McRaney, J...  "
      ]
     },
     "execution_count": 67,
     "metadata": {},
     "output_type": "execute_result"
    }
   ],
   "source": [
    "\n",
    "selected_columns=['Title','Show_Id', 'Director']\n",
    "data[data[\"Title\"].isin(['House of Cards'])][selected_columns]"
   ]
  },
  {
   "cell_type": "markdown",
   "id": "07e71478-e45d-4a70-b0c1-7b5915bfbd93",
   "metadata": {},
   "source": [
    "#### Using str.contains()"
   ]
  },
  {
   "cell_type": "code",
   "execution_count": 74,
   "id": "a495569e-cd53-4952-9156-8d1d7e9c3ad2",
   "metadata": {},
   "outputs": [
    {
     "data": {
      "text/html": [
       "<div>\n",
       "<style scoped>\n",
       "    .dataframe tbody tr th:only-of-type {\n",
       "        vertical-align: middle;\n",
       "    }\n",
       "\n",
       "    .dataframe tbody tr th {\n",
       "        vertical-align: top;\n",
       "    }\n",
       "\n",
       "    .dataframe thead th {\n",
       "        text-align: right;\n",
       "    }\n",
       "</style>\n",
       "<table border=\"1\" class=\"dataframe\">\n",
       "  <thead>\n",
       "    <tr style=\"text-align: right;\">\n",
       "      <th></th>\n",
       "      <th>Title</th>\n",
       "      <th>Show_Id</th>\n",
       "      <th>Director</th>\n",
       "    </tr>\n",
       "  </thead>\n",
       "  <tbody>\n",
       "    <tr>\n",
       "      <th>2832</th>\n",
       "      <td>House of Cards</td>\n",
       "      <td>s2833</td>\n",
       "      <td>Robin Wright, David Fincher, Gerald McRaney, J...</td>\n",
       "    </tr>\n",
       "  </tbody>\n",
       "</table>\n",
       "</div>"
      ],
      "text/plain": [
       "               Title Show_Id  \\\n",
       "2832  House of Cards   s2833   \n",
       "\n",
       "                                               Director  \n",
       "2832  Robin Wright, David Fincher, Gerald McRaney, J...  "
      ]
     },
     "execution_count": 74,
     "metadata": {},
     "output_type": "execute_result"
    }
   ],
   "source": [
    "data[data[\"Title\"].str.contains('House of Cards')][selected_columns]"
   ]
  },
  {
   "cell_type": "markdown",
   "id": "34195a2b-3cb9-4e13-9834-f637c53ebd8c",
   "metadata": {},
   "source": [
    "#### 2. In which Year the highest number of Movies and TV shows were released?"
   ]
  },
  {
   "cell_type": "code",
   "execution_count": 75,
   "id": "733faa53-7b68-4ef8-8284-9938d4e28446",
   "metadata": {},
   "outputs": [
    {
     "data": {
      "text/plain": [
       "'\\nSelect EXTRACT(year from release_date), count(category) as movies_tvshows_cnt\\nfrom data\\norder by movies_tvshows_cnt desc\\n'"
      ]
     },
     "execution_count": 75,
     "metadata": {},
     "output_type": "execute_result"
    }
   ],
   "source": [
    "'''\n",
    "Select EXTRACT(year from release_date), count(category) as movies_tvshows_cnt\n",
    "from data\n",
    "order by movies_tvshows_cnt desc\n",
    "'''"
   ]
  },
  {
   "cell_type": "code",
   "execution_count": 81,
   "id": "3d5ba670-4e5c-4032-8438-779b15af54e0",
   "metadata": {},
   "outputs": [],
   "source": [
    "# Release_date column is of object type, We'll convert them into datetime type\n",
    "data['Release_Date'] = pd.to_datetime(data['Release_Date'],  format='mixed', yearfirst=True)"
   ]
  },
  {
   "cell_type": "code",
   "execution_count": 82,
   "id": "4b6f3b06-57f5-4474-a25e-4dede16f0855",
   "metadata": {},
   "outputs": [
    {
     "data": {
      "text/plain": [
       "0      2020-08-14\n",
       "1      2016-12-23\n",
       "2      2018-12-20\n",
       "3      2017-11-16\n",
       "4      2020-01-01\n",
       "          ...    \n",
       "7784   2020-10-19\n",
       "7785   2019-03-02\n",
       "7786   2020-09-25\n",
       "7787   2020-10-31\n",
       "7788   2020-03-01\n",
       "Name: Release_Date, Length: 7787, dtype: datetime64[ns]"
      ]
     },
     "execution_count": 82,
     "metadata": {},
     "output_type": "execute_result"
    }
   ],
   "source": [
    "data.Release_Date"
   ]
  },
  {
   "cell_type": "code",
   "execution_count": 86,
   "id": "ee06c5a3-c922-4998-bdc6-f40bab422d58",
   "metadata": {},
   "outputs": [
    {
     "data": {
      "text/plain": [
       "Show_Id                 object\n",
       "Category                object\n",
       "Title                   object\n",
       "Director                object\n",
       "Cast                    object\n",
       "Country                 object\n",
       "Release_Date    datetime64[ns]\n",
       "Rating                  object\n",
       "Duration                object\n",
       "Type                    object\n",
       "Description             object\n",
       "dtype: object"
      ]
     },
     "execution_count": 86,
     "metadata": {},
     "output_type": "execute_result"
    }
   ],
   "source": [
    "data.dtypes"
   ]
  },
  {
   "cell_type": "code",
   "execution_count": 88,
   "id": "c7966f80-7671-41a7-8910-b6515cb3dc97",
   "metadata": {},
   "outputs": [
    {
     "data": {
      "text/plain": [
       "Release_Date\n",
       "2019.0    2153\n",
       "2020.0    2009\n",
       "2018.0    1685\n",
       "2017.0    1225\n",
       "2016.0     443\n",
       "2021.0     117\n",
       "2015.0      88\n",
       "2014.0      25\n",
       "2011.0      13\n",
       "2013.0      11\n",
       "2012.0       3\n",
       "2008.0       2\n",
       "2009.0       2\n",
       "2010.0       1\n",
       "Name: count, dtype: int64"
      ]
     },
     "execution_count": 88,
     "metadata": {},
     "output_type": "execute_result"
    }
   ],
   "source": [
    "data['Release_Date'].dt.year.value_counts()"
   ]
  },
  {
   "cell_type": "markdown",
   "id": "27e2f157-931e-4b5d-8e96-fb1f79cb4578",
   "metadata": {},
   "source": [
    "### 2019 has maximum releases"
   ]
  },
  {
   "cell_type": "code",
   "execution_count": 92,
   "id": "82b6eca7-c8e9-4e14-967a-88654cd92873",
   "metadata": {},
   "outputs": [
    {
     "data": {
      "text/plain": [
       "<Axes: xlabel='Release_Date'>"
      ]
     },
     "execution_count": 92,
     "metadata": {},
     "output_type": "execute_result"
    },
    {
     "data": {
      "image/png": "[encoded data removed]",
      "text/plain": [
       "<Figure size 640x480 with 1 Axes>"
      ]
     },
     "metadata": {},
     "output_type": "display_data"
    }
   ],
   "source": [
    "# visulaizing distriibution using Bar Graph\n",
    "\n",
    "data['Release_Date'].dt.year.value_counts().plot(kind='bar')"
   ]
  },
  {
   "cell_type": "code",
   "execution_count": 97,
   "id": "15e83dbf-1a97-4e13-ba00-8f07bf37c1cd",
   "metadata": {},
   "outputs": [
    {
     "data": {
      "text/plain": [
       "<Axes: xlabel='Release_Date', ylabel='Count'>"
      ]
     },
     "execution_count": 97,
     "metadata": {},
     "output_type": "execute_result"
    },
    {
     "data": {
      "image/png": "[encoded data removed]",
      "text/plain": [
       "<Figure size 640x480 with 1 Axes>"
      ]
     },
     "metadata": {},
     "output_type": "display_data"
    }
   ],
   "source": [
    "sns.histplot(data['Release_Date'], bins=40, kde=True)"
   ]
  },
  {
   "cell_type": "markdown",
   "id": "5ad5f80a-fa7c-4459-8712-1640208db5a7",
   "metadata": {},
   "source": [
    "#### 3. How many Movies and TV Shows are in this dataset?"
   ]
  },
  {
   "cell_type": "code",
   "execution_count": null,
   "id": "aaa91534-599f-4c70-9424-cff46680cb4e",
   "metadata": {},
   "outputs": [],
   "source": [
    "'''\n",
    "select count(case when category='TV Show' then 1 else end) as TVshow_cnt,\n",
    "        count(case when category='Movie' then 1 else end) as movie_cnt\n",
    "from data\n",
    "'''"
   ]
  },
  {
   "cell_type": "code",
   "execution_count": 103,
   "id": "63bebf7a-5a99-400d-a61f-29f646d7d647",
   "metadata": {},
   "outputs": [
    {
     "data": {
      "text/html": [
       "<div>\n",
       "<style scoped>\n",
       "    .dataframe tbody tr th:only-of-type {\n",
       "        vertical-align: middle;\n",
       "    }\n",
       "\n",
       "    .dataframe tbody tr th {\n",
       "        vertical-align: top;\n",
       "    }\n",
       "\n",
       "    .dataframe thead th {\n",
       "        text-align: right;\n",
       "    }\n",
       "</style>\n",
       "<table border=\"1\" class=\"dataframe\">\n",
       "  <thead>\n",
       "    <tr style=\"text-align: right;\">\n",
       "      <th></th>\n",
       "      <th>Show_Id</th>\n",
       "      <th>Category</th>\n",
       "      <th>Title</th>\n",
       "      <th>Director</th>\n",
       "      <th>Cast</th>\n",
       "      <th>Country</th>\n",
       "      <th>Release_Date</th>\n",
       "      <th>Rating</th>\n",
       "      <th>Duration</th>\n",
       "      <th>Type</th>\n",
       "      <th>Description</th>\n",
       "    </tr>\n",
       "  </thead>\n",
       "  <tbody>\n",
       "    <tr>\n",
       "      <th>0</th>\n",
       "      <td>s1</td>\n",
       "      <td>TV Show</td>\n",
       "      <td>3%</td>\n",
       "      <td>NaN</td>\n",
       "      <td>João Miguel, Bianca Comparato, Michel Gomes, R...</td>\n",
       "      <td>Brazil</td>\n",
       "      <td>2020-08-14</td>\n",
       "      <td>TV-MA</td>\n",
       "      <td>4 Seasons</td>\n",
       "      <td>International TV Shows, TV Dramas, TV Sci-Fi &amp;...</td>\n",
       "      <td>In a future where the elite inhabit an island ...</td>\n",
       "    </tr>\n",
       "    <tr>\n",
       "      <th>1</th>\n",
       "      <td>s2</td>\n",
       "      <td>Movie</td>\n",
       "      <td>07:19</td>\n",
       "      <td>Jorge Michel Grau</td>\n",
       "      <td>Demián Bichir, Héctor Bonilla, Oscar Serrano, ...</td>\n",
       "      <td>Mexico</td>\n",
       "      <td>2016-12-23</td>\n",
       "      <td>TV-MA</td>\n",
       "      <td>93 min</td>\n",
       "      <td>Dramas, International Movies</td>\n",
       "      <td>After a devastating earthquake hits Mexico Cit...</td>\n",
       "    </tr>\n",
       "  </tbody>\n",
       "</table>\n",
       "</div>"
      ],
      "text/plain": [
       "  Show_Id Category  Title           Director  \\\n",
       "0      s1  TV Show     3%                NaN   \n",
       "1      s2    Movie  07:19  Jorge Michel Grau   \n",
       "\n",
       "                                                Cast Country Release_Date  \\\n",
       "0  João Miguel, Bianca Comparato, Michel Gomes, R...  Brazil   2020-08-14   \n",
       "1  Demián Bichir, Héctor Bonilla, Oscar Serrano, ...  Mexico   2016-12-23   \n",
       "\n",
       "  Rating   Duration                                               Type  \\\n",
       "0  TV-MA  4 Seasons  International TV Shows, TV Dramas, TV Sci-Fi &...   \n",
       "1  TV-MA     93 min                       Dramas, International Movies   \n",
       "\n",
       "                                         Description  \n",
       "0  In a future where the elite inhabit an island ...  \n",
       "1  After a devastating earthquake hits Mexico Cit...  "
      ]
     },
     "execution_count": 103,
     "metadata": {},
     "output_type": "execute_result"
    }
   ],
   "source": [
    "data.head(2)"
   ]
  },
  {
   "cell_type": "code",
   "execution_count": 104,
   "id": "7017b499-dc7a-40ed-8e80-9d21261201bd",
   "metadata": {},
   "outputs": [
    {
     "data": {
      "text/plain": [
       "Category\n",
       "Movie      5377\n",
       "TV Show    2410\n",
       "Name: Category, dtype: int64"
      ]
     },
     "execution_count": 104,
     "metadata": {},
     "output_type": "execute_result"
    }
   ],
   "source": [
    "# Group all the unqique items of a column and then count them all \n",
    "data.groupby('Category').Category.count()"
   ]
  },
  {
   "cell_type": "code",
   "execution_count": 119,
   "id": "1e472a2f-9e3d-4464-bc92-fc527f08654d",
   "metadata": {},
   "outputs": [
    {
     "data": {
      "text/plain": [
       "<Axes: xlabel='Category', ylabel='count'>"
      ]
     },
     "execution_count": 119,
     "metadata": {},
     "output_type": "execute_result"
    },
    {
     "data": {
      "image/png": "[encoded data removed]",
      "text/plain": [
       "<Figure size 300x200 with 1 Axes>"
      ]
     },
     "metadata": {},
     "output_type": "display_data"
    }
   ],
   "source": [
    "plt.figure(figsize=(3,2))\n",
    "sns.countplot(data, x='Category')"
   ]
  },
  {
   "cell_type": "markdown",
   "id": "1d66ab39-ad04-4166-b8b7-8405a2256649",
   "metadata": {},
   "source": [
    "#### 4. Show all the movies that were release in the year 2000"
   ]
  },
  {
   "cell_type": "code",
   "execution_count": null,
   "id": "d9cfc5d8-7243-40b3-9291-b493750233bc",
   "metadata": {},
   "outputs": [],
   "source": [
    "'''\n",
    "Select * from data\n",
    "where extract(year from 'release_date')= 2000 and Category = 'Movie'\n",
    "'''"
   ]
  },
  {
   "cell_type": "code",
   "execution_count": 121,
   "id": "5dce8895-eb6e-4e75-b897-b48f4826b8e8",
   "metadata": {},
   "outputs": [
    {
     "data": {
      "text/html": [
       "<div>\n",
       "<style scoped>\n",
       "    .dataframe tbody tr th:only-of-type {\n",
       "        vertical-align: middle;\n",
       "    }\n",
       "\n",
       "    .dataframe tbody tr th {\n",
       "        vertical-align: top;\n",
       "    }\n",
       "\n",
       "    .dataframe thead th {\n",
       "        text-align: right;\n",
       "    }\n",
       "</style>\n",
       "<table border=\"1\" class=\"dataframe\">\n",
       "  <thead>\n",
       "    <tr style=\"text-align: right;\">\n",
       "      <th></th>\n",
       "      <th>Show_Id</th>\n",
       "      <th>Category</th>\n",
       "      <th>Title</th>\n",
       "      <th>Director</th>\n",
       "      <th>Cast</th>\n",
       "      <th>Country</th>\n",
       "      <th>Release_Date</th>\n",
       "      <th>Rating</th>\n",
       "      <th>Duration</th>\n",
       "      <th>Type</th>\n",
       "      <th>Description</th>\n",
       "    </tr>\n",
       "  </thead>\n",
       "  <tbody>\n",
       "    <tr>\n",
       "      <th>0</th>\n",
       "      <td>s1</td>\n",
       "      <td>TV Show</td>\n",
       "      <td>3%</td>\n",
       "      <td>NaN</td>\n",
       "      <td>João Miguel, Bianca Comparato, Michel Gomes, R...</td>\n",
       "      <td>Brazil</td>\n",
       "      <td>2020-08-14</td>\n",
       "      <td>TV-MA</td>\n",
       "      <td>4 Seasons</td>\n",
       "      <td>International TV Shows, TV Dramas, TV Sci-Fi &amp;...</td>\n",
       "      <td>In a future where the elite inhabit an island ...</td>\n",
       "    </tr>\n",
       "  </tbody>\n",
       "</table>\n",
       "</div>"
      ],
      "text/plain": [
       "  Show_Id Category Title Director  \\\n",
       "0      s1  TV Show    3%      NaN   \n",
       "\n",
       "                                                Cast Country Release_Date  \\\n",
       "0  João Miguel, Bianca Comparato, Michel Gomes, R...  Brazil   2020-08-14   \n",
       "\n",
       "  Rating   Duration                                               Type  \\\n",
       "0  TV-MA  4 Seasons  International TV Shows, TV Dramas, TV Sci-Fi &...   \n",
       "\n",
       "                                         Description  \n",
       "0  In a future where the elite inhabit an island ...  "
      ]
     },
     "execution_count": 121,
     "metadata": {},
     "output_type": "execute_result"
    }
   ],
   "source": [
    "data.head(1)"
   ]
  },
  {
   "cell_type": "code",
   "execution_count": 125,
   "id": "a654d6c9-2883-45bb-9928-ce6c7e023ffb",
   "metadata": {},
   "outputs": [
    {
     "data": {
      "text/html": [
       "<div>\n",
       "<style scoped>\n",
       "    .dataframe tbody tr th:only-of-type {\n",
       "        vertical-align: middle;\n",
       "    }\n",
       "\n",
       "    .dataframe tbody tr th {\n",
       "        vertical-align: top;\n",
       "    }\n",
       "\n",
       "    .dataframe thead th {\n",
       "        text-align: right;\n",
       "    }\n",
       "</style>\n",
       "<table border=\"1\" class=\"dataframe\">\n",
       "  <thead>\n",
       "    <tr style=\"text-align: right;\">\n",
       "      <th></th>\n",
       "      <th>Show_Id</th>\n",
       "      <th>Category</th>\n",
       "      <th>Title</th>\n",
       "      <th>Director</th>\n",
       "      <th>Cast</th>\n",
       "      <th>Country</th>\n",
       "      <th>Release_Date</th>\n",
       "      <th>Rating</th>\n",
       "      <th>Duration</th>\n",
       "      <th>Type</th>\n",
       "      <th>Description</th>\n",
       "    </tr>\n",
       "  </thead>\n",
       "  <tbody>\n",
       "  </tbody>\n",
       "</table>\n",
       "</div>"
      ],
      "text/plain": [
       "Empty DataFrame\n",
       "Columns: [Show_Id, Category, Title, Director, Cast, Country, Release_Date, Rating, Duration, Type, Description]\n",
       "Index: []"
      ]
     },
     "execution_count": 125,
     "metadata": {},
     "output_type": "execute_result"
    }
   ],
   "source": [
    "# Filtering based on two conditions Movie and Year\n",
    "data[ (data['Category'] == 'Movie') & (data['Release_Date'].dt.year==2000) ]"
   ]
  },
  {
   "cell_type": "markdown",
   "id": "5a804192-aa59-4264-ab8b-4e4e91cdeb62",
   "metadata": {},
   "source": [
    "No movies were released in the Year 2000"
   ]
  },
  {
   "cell_type": "markdown",
   "id": "35a4cba0-9db3-44cd-a53c-89e96977a512",
   "metadata": {},
   "source": [
    "#### 5. Show the Titles of the TV Shows that were released in India only"
   ]
  },
  {
   "cell_type": "code",
   "execution_count": null,
   "id": "bf597978-33f8-4237-907e-8aa38ad819a4",
   "metadata": {},
   "outputs": [],
   "source": [
    "'''\n",
    "Select title from data \n",
    "where category = 'Tv show' and Country = 'India'\n",
    "'''"
   ]
  },
  {
   "cell_type": "code",
   "execution_count": 129,
   "id": "be1fa3b8-9dce-4aa2-a97d-39291d5375a9",
   "metadata": {},
   "outputs": [
    {
     "data": {
      "text/html": [
       "<div>\n",
       "<style scoped>\n",
       "    .dataframe tbody tr th:only-of-type {\n",
       "        vertical-align: middle;\n",
       "    }\n",
       "\n",
       "    .dataframe tbody tr th {\n",
       "        vertical-align: top;\n",
       "    }\n",
       "\n",
       "    .dataframe thead th {\n",
       "        text-align: right;\n",
       "    }\n",
       "</style>\n",
       "<table border=\"1\" class=\"dataframe\">\n",
       "  <thead>\n",
       "    <tr style=\"text-align: right;\">\n",
       "      <th></th>\n",
       "      <th>Show_Id</th>\n",
       "      <th>Category</th>\n",
       "      <th>Title</th>\n",
       "      <th>Director</th>\n",
       "      <th>Cast</th>\n",
       "      <th>Country</th>\n",
       "      <th>Release_Date</th>\n",
       "      <th>Rating</th>\n",
       "      <th>Duration</th>\n",
       "      <th>Type</th>\n",
       "      <th>Description</th>\n",
       "    </tr>\n",
       "  </thead>\n",
       "  <tbody>\n",
       "    <tr>\n",
       "      <th>86</th>\n",
       "      <td>s87</td>\n",
       "      <td>TV Show</td>\n",
       "      <td>21 Sarfarosh: Saragarhi 1897</td>\n",
       "      <td>NaN</td>\n",
       "      <td>Luke Kenny, Mohit Raina, Mukul Dev</td>\n",
       "      <td>India</td>\n",
       "      <td>2018-12-01</td>\n",
       "      <td>TV-14</td>\n",
       "      <td>1 Season</td>\n",
       "      <td>International TV Shows, TV Dramas</td>\n",
       "      <td>In one of history's greatest last stands, a ba...</td>\n",
       "    </tr>\n",
       "    <tr>\n",
       "      <th>132</th>\n",
       "      <td>s133</td>\n",
       "      <td>TV Show</td>\n",
       "      <td>7 (Seven)</td>\n",
       "      <td>Nizar Shafi</td>\n",
       "      <td>Rahman, Havish, Regina Cassandra, Nandita Swet...</td>\n",
       "      <td>India</td>\n",
       "      <td>2019-07-30</td>\n",
       "      <td>TV-14</td>\n",
       "      <td>1 Season</td>\n",
       "      <td>TV Shows</td>\n",
       "      <td>Multiple women report their husbands as missin...</td>\n",
       "    </tr>\n",
       "    <tr>\n",
       "      <th>340</th>\n",
       "      <td>s341</td>\n",
       "      <td>TV Show</td>\n",
       "      <td>Agent Raghav</td>\n",
       "      <td>NaN</td>\n",
       "      <td>Sharad Kelkar, Aahana Kumra, Mahesh Manjrekar,...</td>\n",
       "      <td>India</td>\n",
       "      <td>2017-04-15</td>\n",
       "      <td>TV-14</td>\n",
       "      <td>1 Season</td>\n",
       "      <td>Crime TV Shows, International TV Shows, TV Act...</td>\n",
       "      <td>A mix of brilliance, erudition and skill enabl...</td>\n",
       "    </tr>\n",
       "    <tr>\n",
       "      <th>364</th>\n",
       "      <td>s365</td>\n",
       "      <td>TV Show</td>\n",
       "      <td>Akbar Birbal</td>\n",
       "      <td>NaN</td>\n",
       "      <td>Kiku Sharda, Vishal Kotian, Delnaaz Irani</td>\n",
       "      <td>India</td>\n",
       "      <td>2020-03-31</td>\n",
       "      <td>TV-G</td>\n",
       "      <td>1 Season</td>\n",
       "      <td>Kids' TV, TV Comedies, TV Dramas</td>\n",
       "      <td>From battles of wit to fights for justice, Emp...</td>\n",
       "    </tr>\n",
       "    <tr>\n",
       "      <th>533</th>\n",
       "      <td>s534</td>\n",
       "      <td>TV Show</td>\n",
       "      <td>Anjaan: Rural Myths</td>\n",
       "      <td>NaN</td>\n",
       "      <td>NaN</td>\n",
       "      <td>India</td>\n",
       "      <td>2018-12-15</td>\n",
       "      <td>TV-14</td>\n",
       "      <td>1 Season</td>\n",
       "      <td>International TV Shows, TV Horror, TV Thrillers</td>\n",
       "      <td>Spine-chilling stories of malevolent spirits u...</td>\n",
       "    </tr>\n",
       "    <tr>\n",
       "      <th>...</th>\n",
       "      <td>...</td>\n",
       "      <td>...</td>\n",
       "      <td>...</td>\n",
       "      <td>...</td>\n",
       "      <td>...</td>\n",
       "      <td>...</td>\n",
       "      <td>...</td>\n",
       "      <td>...</td>\n",
       "      <td>...</td>\n",
       "      <td>...</td>\n",
       "      <td>...</td>\n",
       "    </tr>\n",
       "    <tr>\n",
       "      <th>6249</th>\n",
       "      <td>s6249</td>\n",
       "      <td>TV Show</td>\n",
       "      <td>The Creative Indians</td>\n",
       "      <td>NaN</td>\n",
       "      <td>NaN</td>\n",
       "      <td>India</td>\n",
       "      <td>2020-08-24</td>\n",
       "      <td>TV-MA</td>\n",
       "      <td>2 Seasons</td>\n",
       "      <td>Docuseries, International TV Shows</td>\n",
       "      <td>From chefs and comedians to filmmakers and fas...</td>\n",
       "    </tr>\n",
       "    <tr>\n",
       "      <th>6400</th>\n",
       "      <td>s6399</td>\n",
       "      <td>TV Show</td>\n",
       "      <td>The Golden Years with Javed Akhtar</td>\n",
       "      <td>NaN</td>\n",
       "      <td>NaN</td>\n",
       "      <td>India</td>\n",
       "      <td>2017-06-01</td>\n",
       "      <td>TV-G</td>\n",
       "      <td>1 Season</td>\n",
       "      <td>Docuseries, International TV Shows</td>\n",
       "      <td>Writer, poet and lyricist Javed Akhtar hosts t...</td>\n",
       "    </tr>\n",
       "    <tr>\n",
       "      <th>6469</th>\n",
       "      <td>s6468</td>\n",
       "      <td>TV Show</td>\n",
       "      <td>The House That Made Me</td>\n",
       "      <td>NaN</td>\n",
       "      <td>Vinay Pathak</td>\n",
       "      <td>India</td>\n",
       "      <td>2017-03-31</td>\n",
       "      <td>TV-PG</td>\n",
       "      <td>3 Seasons</td>\n",
       "      <td>International TV Shows, Reality TV</td>\n",
       "      <td>With host Vinay Pathak, Indian celebrities ret...</td>\n",
       "    </tr>\n",
       "    <tr>\n",
       "      <th>7294</th>\n",
       "      <td>s7293</td>\n",
       "      <td>TV Show</td>\n",
       "      <td>Typewriter</td>\n",
       "      <td>NaN</td>\n",
       "      <td>Aarna Sharma, Aaryansh Malviya, Mikail Gandhi,...</td>\n",
       "      <td>India</td>\n",
       "      <td>2019-07-19</td>\n",
       "      <td>TV-MA</td>\n",
       "      <td>1 Season</td>\n",
       "      <td>International TV Shows, TV Horror, TV Mysteries</td>\n",
       "      <td>Three young friends in Goa plan to search an o...</td>\n",
       "    </tr>\n",
       "    <tr>\n",
       "      <th>7705</th>\n",
       "      <td>s7704</td>\n",
       "      <td>TV Show</td>\n",
       "      <td>Yeh Meri Family</td>\n",
       "      <td>NaN</td>\n",
       "      <td>Vishesh Bansal, Mona Singh, Akarsh Khurana, Ah...</td>\n",
       "      <td>India</td>\n",
       "      <td>2018-08-31</td>\n",
       "      <td>TV-PG</td>\n",
       "      <td>1 Season</td>\n",
       "      <td>International TV Shows, TV Comedies</td>\n",
       "      <td>In the summer of 1998, middle child Harshu bal...</td>\n",
       "    </tr>\n",
       "  </tbody>\n",
       "</table>\n",
       "<p>71 rows × 11 columns</p>\n",
       "</div>"
      ],
      "text/plain": [
       "     Show_Id Category                               Title     Director  \\\n",
       "86       s87  TV Show        21 Sarfarosh: Saragarhi 1897          NaN   \n",
       "132     s133  TV Show                           7 (Seven)  Nizar Shafi   \n",
       "340     s341  TV Show                        Agent Raghav          NaN   \n",
       "364     s365  TV Show                        Akbar Birbal          NaN   \n",
       "533     s534  TV Show                 Anjaan: Rural Myths          NaN   \n",
       "...      ...      ...                                 ...          ...   \n",
       "6249   s6249  TV Show                The Creative Indians          NaN   \n",
       "6400   s6399  TV Show  The Golden Years with Javed Akhtar          NaN   \n",
       "6469   s6468  TV Show              The House That Made Me          NaN   \n",
       "7294   s7293  TV Show                          Typewriter          NaN   \n",
       "7705   s7704  TV Show                     Yeh Meri Family          NaN   \n",
       "\n",
       "                                                   Cast Country Release_Date  \\\n",
       "86                   Luke Kenny, Mohit Raina, Mukul Dev   India   2018-12-01   \n",
       "132   Rahman, Havish, Regina Cassandra, Nandita Swet...   India   2019-07-30   \n",
       "340   Sharad Kelkar, Aahana Kumra, Mahesh Manjrekar,...   India   2017-04-15   \n",
       "364           Kiku Sharda, Vishal Kotian, Delnaaz Irani   India   2020-03-31   \n",
       "533                                                 NaN   India   2018-12-15   \n",
       "...                                                 ...     ...          ...   \n",
       "6249                                                NaN   India   2020-08-24   \n",
       "6400                                                NaN   India   2017-06-01   \n",
       "6469                                       Vinay Pathak   India   2017-03-31   \n",
       "7294  Aarna Sharma, Aaryansh Malviya, Mikail Gandhi,...   India   2019-07-19   \n",
       "7705  Vishesh Bansal, Mona Singh, Akarsh Khurana, Ah...   India   2018-08-31   \n",
       "\n",
       "     Rating   Duration                                               Type  \\\n",
       "86    TV-14   1 Season                  International TV Shows, TV Dramas   \n",
       "132   TV-14   1 Season                                           TV Shows   \n",
       "340   TV-14   1 Season  Crime TV Shows, International TV Shows, TV Act...   \n",
       "364    TV-G   1 Season                   Kids' TV, TV Comedies, TV Dramas   \n",
       "533   TV-14   1 Season    International TV Shows, TV Horror, TV Thrillers   \n",
       "...     ...        ...                                                ...   \n",
       "6249  TV-MA  2 Seasons                 Docuseries, International TV Shows   \n",
       "6400   TV-G   1 Season                 Docuseries, International TV Shows   \n",
       "6469  TV-PG  3 Seasons                 International TV Shows, Reality TV   \n",
       "7294  TV-MA   1 Season    International TV Shows, TV Horror, TV Mysteries   \n",
       "7705  TV-PG   1 Season                International TV Shows, TV Comedies   \n",
       "\n",
       "                                            Description  \n",
       "86    In one of history's greatest last stands, a ba...  \n",
       "132   Multiple women report their husbands as missin...  \n",
       "340   A mix of brilliance, erudition and skill enabl...  \n",
       "364   From battles of wit to fights for justice, Emp...  \n",
       "533   Spine-chilling stories of malevolent spirits u...  \n",
       "...                                                 ...  \n",
       "6249  From chefs and comedians to filmmakers and fas...  \n",
       "6400  Writer, poet and lyricist Javed Akhtar hosts t...  \n",
       "6469  With host Vinay Pathak, Indian celebrities ret...  \n",
       "7294  Three young friends in Goa plan to search an o...  \n",
       "7705  In the summer of 1998, middle child Harshu bal...  \n",
       "\n",
       "[71 rows x 11 columns]"
      ]
     },
     "execution_count": 129,
     "metadata": {},
     "output_type": "execute_result"
    }
   ],
   "source": [
    "data[ (data['Category'] == 'TV Show') & (data['Country'] == 'India') ]"
   ]
  },
  {
   "cell_type": "markdown",
   "id": "6120ce4f-3110-46e0-a6e4-dd17feb1c3d4",
   "metadata": {},
   "source": [
    "We have a list of 71 TV Shows from India"
   ]
  },
  {
   "cell_type": "code",
   "execution_count": 134,
   "id": "09c15436-baed-4402-bd71-6aad00c2faf2",
   "metadata": {},
   "outputs": [
    {
     "data": {
      "text/plain": [
       "86            21 Sarfarosh: Saragarhi 1897\n",
       "132                              7 (Seven)\n",
       "340                           Agent Raghav\n",
       "364                           Akbar Birbal\n",
       "533                    Anjaan: Rural Myths\n",
       "                       ...                \n",
       "6249                  The Creative Indians\n",
       "6400    The Golden Years with Javed Akhtar\n",
       "6469                The House That Made Me\n",
       "7294                            Typewriter\n",
       "7705                       Yeh Meri Family\n",
       "Name: Title, Length: 71, dtype: object"
      ]
     },
     "execution_count": 134,
     "metadata": {},
     "output_type": "execute_result"
    }
   ],
   "source": [
    "data[ (data['Category'] == 'TV Show') & (data['Country'] == 'India') ] ['Title']"
   ]
  },
  {
   "cell_type": "markdown",
   "id": "1b95bf86-83c9-4ae7-9eaf-8b86ec60dcaa",
   "metadata": {},
   "source": [
    "#### 6. Show Top 10 Directors, who gave the highest number of TV shows and Movies"
   ]
  },
  {
   "cell_type": "code",
   "execution_count": 135,
   "id": "f107ce6b-663b-4103-ad6f-24877831ab6f",
   "metadata": {},
   "outputs": [
    {
     "data": {
      "text/plain": [
       "Director\n",
       "Raúl Campos, Jan Suter    18\n",
       "Marcus Raboy              16\n",
       "Jay Karas                 14\n",
       "Cathy Garcia-Molina       13\n",
       "Jay Chapman               12\n",
       "Youssef Chahine           12\n",
       "Martin Scorsese           12\n",
       "Steven Spielberg          10\n",
       "David Dhawan               9\n",
       "Hakan Algül                8\n",
       "Name: count, dtype: int64"
      ]
     },
     "execution_count": 135,
     "metadata": {},
     "output_type": "execute_result"
    }
   ],
   "source": [
    "data['Director'].value_counts().head(10)"
   ]
  },
  {
   "cell_type": "markdown",
   "id": "ee5ce19c-af86-4903-b5fa-4ee5472bd6b1",
   "metadata": {},
   "source": [
    "#### 7. Show all the records where \"Category is Movie and Type is Comedies\" or Country is 'Unted Kingdom'"
   ]
  },
  {
   "cell_type": "code",
   "execution_count": null,
   "id": "0c39b2dc-c245-4351-ae75-284afe9d076f",
   "metadata": {},
   "outputs": [],
   "source": [
    "'''\n",
    "Select * from data \n",
    "where Category = 'Movie' and  Type = 'Comedies' or Country ='United Kingdom'\n",
    "'''"
   ]
  },
  {
   "cell_type": "code",
   "execution_count": 136,
   "id": "cec32e02-4608-47c1-86d3-d76e265b6b0d",
   "metadata": {},
   "outputs": [
    {
     "data": {
      "text/html": [
       "<div>\n",
       "<style scoped>\n",
       "    .dataframe tbody tr th:only-of-type {\n",
       "        vertical-align: middle;\n",
       "    }\n",
       "\n",
       "    .dataframe tbody tr th {\n",
       "        vertical-align: top;\n",
       "    }\n",
       "\n",
       "    .dataframe thead th {\n",
       "        text-align: right;\n",
       "    }\n",
       "</style>\n",
       "<table border=\"1\" class=\"dataframe\">\n",
       "  <thead>\n",
       "    <tr style=\"text-align: right;\">\n",
       "      <th></th>\n",
       "      <th>Show_Id</th>\n",
       "      <th>Category</th>\n",
       "      <th>Title</th>\n",
       "      <th>Director</th>\n",
       "      <th>Cast</th>\n",
       "      <th>Country</th>\n",
       "      <th>Release_Date</th>\n",
       "      <th>Rating</th>\n",
       "      <th>Duration</th>\n",
       "      <th>Type</th>\n",
       "      <th>Description</th>\n",
       "    </tr>\n",
       "  </thead>\n",
       "  <tbody>\n",
       "    <tr>\n",
       "      <th>0</th>\n",
       "      <td>s1</td>\n",
       "      <td>TV Show</td>\n",
       "      <td>3%</td>\n",
       "      <td>NaN</td>\n",
       "      <td>João Miguel, Bianca Comparato, Michel Gomes, R...</td>\n",
       "      <td>Brazil</td>\n",
       "      <td>2020-08-14</td>\n",
       "      <td>TV-MA</td>\n",
       "      <td>4 Seasons</td>\n",
       "      <td>International TV Shows, TV Dramas, TV Sci-Fi &amp;...</td>\n",
       "      <td>In a future where the elite inhabit an island ...</td>\n",
       "    </tr>\n",
       "    <tr>\n",
       "      <th>1</th>\n",
       "      <td>s2</td>\n",
       "      <td>Movie</td>\n",
       "      <td>07:19</td>\n",
       "      <td>Jorge Michel Grau</td>\n",
       "      <td>Demián Bichir, Héctor Bonilla, Oscar Serrano, ...</td>\n",
       "      <td>Mexico</td>\n",
       "      <td>2016-12-23</td>\n",
       "      <td>TV-MA</td>\n",
       "      <td>93 min</td>\n",
       "      <td>Dramas, International Movies</td>\n",
       "      <td>After a devastating earthquake hits Mexico Cit...</td>\n",
       "    </tr>\n",
       "  </tbody>\n",
       "</table>\n",
       "</div>"
      ],
      "text/plain": [
       "  Show_Id Category  Title           Director  \\\n",
       "0      s1  TV Show     3%                NaN   \n",
       "1      s2    Movie  07:19  Jorge Michel Grau   \n",
       "\n",
       "                                                Cast Country Release_Date  \\\n",
       "0  João Miguel, Bianca Comparato, Michel Gomes, R...  Brazil   2020-08-14   \n",
       "1  Demián Bichir, Héctor Bonilla, Oscar Serrano, ...  Mexico   2016-12-23   \n",
       "\n",
       "  Rating   Duration                                               Type  \\\n",
       "0  TV-MA  4 Seasons  International TV Shows, TV Dramas, TV Sci-Fi &...   \n",
       "1  TV-MA     93 min                       Dramas, International Movies   \n",
       "\n",
       "                                         Description  \n",
       "0  In a future where the elite inhabit an island ...  \n",
       "1  After a devastating earthquake hits Mexico Cit...  "
      ]
     },
     "execution_count": 136,
     "metadata": {},
     "output_type": "execute_result"
    }
   ],
   "source": [
    "data.head(2)"
   ]
  },
  {
   "cell_type": "code",
   "execution_count": 164,
   "id": "bff3a4de-a974-4c15-b068-7e0dbbd3823f",
   "metadata": {},
   "outputs": [
    {
     "data": {
      "text/html": [
       "<div>\n",
       "<style scoped>\n",
       "    .dataframe tbody tr th:only-of-type {\n",
       "        vertical-align: middle;\n",
       "    }\n",
       "\n",
       "    .dataframe tbody tr th {\n",
       "        vertical-align: top;\n",
       "    }\n",
       "\n",
       "    .dataframe thead th {\n",
       "        text-align: right;\n",
       "    }\n",
       "</style>\n",
       "<table border=\"1\" class=\"dataframe\">\n",
       "  <thead>\n",
       "    <tr style=\"text-align: right;\">\n",
       "      <th></th>\n",
       "      <th>Show_Id</th>\n",
       "      <th>Category</th>\n",
       "      <th>Title</th>\n",
       "      <th>Director</th>\n",
       "      <th>Cast</th>\n",
       "      <th>Country</th>\n",
       "      <th>Release_Date</th>\n",
       "      <th>Rating</th>\n",
       "      <th>Duration</th>\n",
       "      <th>Type</th>\n",
       "      <th>Description</th>\n",
       "    </tr>\n",
       "  </thead>\n",
       "  <tbody>\n",
       "    <tr>\n",
       "      <th>19</th>\n",
       "      <td>s20</td>\n",
       "      <td>Movie</td>\n",
       "      <td>'89</td>\n",
       "      <td>NaN</td>\n",
       "      <td>Lee Dixon, Ian Wright, Paul Merson</td>\n",
       "      <td>United Kingdom</td>\n",
       "      <td>2018-05-16</td>\n",
       "      <td>TV-PG</td>\n",
       "      <td>87 min</td>\n",
       "      <td>Sports Movies</td>\n",
       "      <td>Mixing old footage with interviews, this is th...</td>\n",
       "    </tr>\n",
       "    <tr>\n",
       "      <th>33</th>\n",
       "      <td>s34</td>\n",
       "      <td>Movie</td>\n",
       "      <td>#realityhigh</td>\n",
       "      <td>Fernando Lebrija</td>\n",
       "      <td>Nesta Cooper, Kate Walsh, John Michael Higgins...</td>\n",
       "      <td>United States</td>\n",
       "      <td>2017-09-08</td>\n",
       "      <td>TV-14</td>\n",
       "      <td>99 min</td>\n",
       "      <td>Comedies</td>\n",
       "      <td>When nerdy high schooler Dani finally attracts...</td>\n",
       "    </tr>\n",
       "    <tr>\n",
       "      <th>58</th>\n",
       "      <td>s59</td>\n",
       "      <td>TV Show</td>\n",
       "      <td>100% Hotter</td>\n",
       "      <td>NaN</td>\n",
       "      <td>Daniel Palmer, Melissa Sophia, Karen Williams,...</td>\n",
       "      <td>United Kingdom</td>\n",
       "      <td>2019-11-01</td>\n",
       "      <td>TV-14</td>\n",
       "      <td>1 Season</td>\n",
       "      <td>British TV Shows, International TV Shows, Real...</td>\n",
       "      <td>A stylist, a hair designer and a makeup artist...</td>\n",
       "    </tr>\n",
       "    <tr>\n",
       "      <th>72</th>\n",
       "      <td>s73</td>\n",
       "      <td>Movie</td>\n",
       "      <td>17 Again</td>\n",
       "      <td>Burr Steers</td>\n",
       "      <td>Zac Efron, Leslie Mann, Matthew Perry, Thomas ...</td>\n",
       "      <td>United States</td>\n",
       "      <td>2021-01-01</td>\n",
       "      <td>PG-13</td>\n",
       "      <td>102 min</td>\n",
       "      <td>Comedies</td>\n",
       "      <td>Nearing a midlife crisis, thirty-something Mik...</td>\n",
       "    </tr>\n",
       "    <tr>\n",
       "      <th>82</th>\n",
       "      <td>s83</td>\n",
       "      <td>Movie</td>\n",
       "      <td>2036 Origin Unknown</td>\n",
       "      <td>Hasraf Dulull</td>\n",
       "      <td>Katee Sackhoff, Ray Fearon, Julie Cox, Steven ...</td>\n",
       "      <td>United Kingdom</td>\n",
       "      <td>2018-12-20</td>\n",
       "      <td>TV-14</td>\n",
       "      <td>95 min</td>\n",
       "      <td>Sci-Fi &amp; Fantasy</td>\n",
       "      <td>Working with an artificial intelligence to inv...</td>\n",
       "    </tr>\n",
       "    <tr>\n",
       "      <th>...</th>\n",
       "      <td>...</td>\n",
       "      <td>...</td>\n",
       "      <td>...</td>\n",
       "      <td>...</td>\n",
       "      <td>...</td>\n",
       "      <td>...</td>\n",
       "      <td>...</td>\n",
       "      <td>...</td>\n",
       "      <td>...</td>\n",
       "      <td>...</td>\n",
       "      <td>...</td>\n",
       "    </tr>\n",
       "    <tr>\n",
       "      <th>7670</th>\n",
       "      <td>s7669</td>\n",
       "      <td>TV Show</td>\n",
       "      <td>World War II in Colour</td>\n",
       "      <td>NaN</td>\n",
       "      <td>Robert Powell</td>\n",
       "      <td>United Kingdom</td>\n",
       "      <td>2017-08-01</td>\n",
       "      <td>TV-MA</td>\n",
       "      <td>1 Season</td>\n",
       "      <td>British TV Shows, Docuseries, International TV...</td>\n",
       "      <td>Footage of the most dramatic moments from Worl...</td>\n",
       "    </tr>\n",
       "    <tr>\n",
       "      <th>7671</th>\n",
       "      <td>s7670</td>\n",
       "      <td>TV Show</td>\n",
       "      <td>World's Busiest Cities</td>\n",
       "      <td>NaN</td>\n",
       "      <td>Anita Rani, Ade Adepitan, Dan Snow</td>\n",
       "      <td>United Kingdom</td>\n",
       "      <td>2019-02-01</td>\n",
       "      <td>TV-PG</td>\n",
       "      <td>1 Season</td>\n",
       "      <td>British TV Shows, Docuseries</td>\n",
       "      <td>From Moscow to Mexico City, three BBC journali...</td>\n",
       "    </tr>\n",
       "    <tr>\n",
       "      <th>7688</th>\n",
       "      <td>s7687</td>\n",
       "      <td>Movie</td>\n",
       "      <td>XV: Beyond the Tryline</td>\n",
       "      <td>Pierre Deschamps</td>\n",
       "      <td>NaN</td>\n",
       "      <td>United Kingdom</td>\n",
       "      <td>2020-03-18</td>\n",
       "      <td>TV-14</td>\n",
       "      <td>91 min</td>\n",
       "      <td>Documentaries, Sports Movies</td>\n",
       "      <td>Set against the 2015 Rugby World Cup, this doc...</td>\n",
       "    </tr>\n",
       "    <tr>\n",
       "      <th>7725</th>\n",
       "      <td>s7724</td>\n",
       "      <td>Movie</td>\n",
       "      <td>You Can Tutu</td>\n",
       "      <td>James Brown</td>\n",
       "      <td>Lily O'Regan, Jeannettsy Enriquez Borges, Joel...</td>\n",
       "      <td>United Kingdom</td>\n",
       "      <td>2017-12-31</td>\n",
       "      <td>TV-G</td>\n",
       "      <td>87 min</td>\n",
       "      <td>Children &amp; Family Movies</td>\n",
       "      <td>A gifted young ballet dancer struggles to find...</td>\n",
       "    </tr>\n",
       "    <tr>\n",
       "      <th>7740</th>\n",
       "      <td>s7739</td>\n",
       "      <td>TV Show</td>\n",
       "      <td>Young Wallander</td>\n",
       "      <td>NaN</td>\n",
       "      <td>Adam Pålsson, Richard Dillane, Leanne Best, El...</td>\n",
       "      <td>United Kingdom</td>\n",
       "      <td>2020-09-03</td>\n",
       "      <td>TV-MA</td>\n",
       "      <td>1 Season</td>\n",
       "      <td>Crime TV Shows, International TV Shows, TV Dramas</td>\n",
       "      <td>An incendiary hate crime stirs civil unrest, f...</td>\n",
       "    </tr>\n",
       "  </tbody>\n",
       "</table>\n",
       "<p>485 rows × 11 columns</p>\n",
       "</div>"
      ],
      "text/plain": [
       "     Show_Id Category                   Title          Director  \\\n",
       "19       s20    Movie                     '89               NaN   \n",
       "33       s34    Movie            #realityhigh  Fernando Lebrija   \n",
       "58       s59  TV Show             100% Hotter               NaN   \n",
       "72       s73    Movie                17 Again       Burr Steers   \n",
       "82       s83    Movie     2036 Origin Unknown     Hasraf Dulull   \n",
       "...      ...      ...                     ...               ...   \n",
       "7670   s7669  TV Show  World War II in Colour               NaN   \n",
       "7671   s7670  TV Show  World's Busiest Cities               NaN   \n",
       "7688   s7687    Movie  XV: Beyond the Tryline  Pierre Deschamps   \n",
       "7725   s7724    Movie            You Can Tutu       James Brown   \n",
       "7740   s7739  TV Show         Young Wallander               NaN   \n",
       "\n",
       "                                                   Cast         Country  \\\n",
       "19                   Lee Dixon, Ian Wright, Paul Merson  United Kingdom   \n",
       "33    Nesta Cooper, Kate Walsh, John Michael Higgins...   United States   \n",
       "58    Daniel Palmer, Melissa Sophia, Karen Williams,...  United Kingdom   \n",
       "72    Zac Efron, Leslie Mann, Matthew Perry, Thomas ...   United States   \n",
       "82    Katee Sackhoff, Ray Fearon, Julie Cox, Steven ...  United Kingdom   \n",
       "...                                                 ...             ...   \n",
       "7670                                      Robert Powell  United Kingdom   \n",
       "7671                 Anita Rani, Ade Adepitan, Dan Snow  United Kingdom   \n",
       "7688                                                NaN  United Kingdom   \n",
       "7725  Lily O'Regan, Jeannettsy Enriquez Borges, Joel...  United Kingdom   \n",
       "7740  Adam Pålsson, Richard Dillane, Leanne Best, El...  United Kingdom   \n",
       "\n",
       "     Release_Date Rating  Duration  \\\n",
       "19     2018-05-16  TV-PG    87 min   \n",
       "33     2017-09-08  TV-14    99 min   \n",
       "58     2019-11-01  TV-14  1 Season   \n",
       "72     2021-01-01  PG-13   102 min   \n",
       "82     2018-12-20  TV-14    95 min   \n",
       "...           ...    ...       ...   \n",
       "7670   2017-08-01  TV-MA  1 Season   \n",
       "7671   2019-02-01  TV-PG  1 Season   \n",
       "7688   2020-03-18  TV-14    91 min   \n",
       "7725   2017-12-31   TV-G    87 min   \n",
       "7740   2020-09-03  TV-MA  1 Season   \n",
       "\n",
       "                                                   Type  \\\n",
       "19                                        Sports Movies   \n",
       "33                                             Comedies   \n",
       "58    British TV Shows, International TV Shows, Real...   \n",
       "72                                             Comedies   \n",
       "82                                     Sci-Fi & Fantasy   \n",
       "...                                                 ...   \n",
       "7670  British TV Shows, Docuseries, International TV...   \n",
       "7671                       British TV Shows, Docuseries   \n",
       "7688                       Documentaries, Sports Movies   \n",
       "7725                           Children & Family Movies   \n",
       "7740  Crime TV Shows, International TV Shows, TV Dramas   \n",
       "\n",
       "                                            Description  \n",
       "19    Mixing old footage with interviews, this is th...  \n",
       "33    When nerdy high schooler Dani finally attracts...  \n",
       "58    A stylist, a hair designer and a makeup artist...  \n",
       "72    Nearing a midlife crisis, thirty-something Mik...  \n",
       "82    Working with an artificial intelligence to inv...  \n",
       "...                                                 ...  \n",
       "7670  Footage of the most dramatic moments from Worl...  \n",
       "7671  From Moscow to Mexico City, three BBC journali...  \n",
       "7688  Set against the 2015 Rugby World Cup, this doc...  \n",
       "7725  A gifted young ballet dancer struggles to find...  \n",
       "7740  An incendiary hate crime stirs civil unrest, f...  \n",
       "\n",
       "[485 rows x 11 columns]"
      ]
     },
     "execution_count": 164,
     "metadata": {},
     "output_type": "execute_result"
    }
   ],
   "source": [
    "data[ (data['Category'] == 'Movie') & (data['Type'] == 'Comedies') | (data['Country'] == 'United Kingdom') ]"
   ]
  },
  {
   "cell_type": "markdown",
   "id": "974d9ac7-0d74-41b2-879d-fc6a40756faf",
   "metadata": {},
   "source": [
    "#### 8. In how many movies or shows, Tom Cruise was cast?"
   ]
  },
  {
   "cell_type": "code",
   "execution_count": 146,
   "id": "0d213216-84b3-44db-a6c4-1b2edd20ed43",
   "metadata": {},
   "outputs": [
    {
     "data": {
      "text/html": [
       "<div>\n",
       "<style scoped>\n",
       "    .dataframe tbody tr th:only-of-type {\n",
       "        vertical-align: middle;\n",
       "    }\n",
       "\n",
       "    .dataframe tbody tr th {\n",
       "        vertical-align: top;\n",
       "    }\n",
       "\n",
       "    .dataframe thead th {\n",
       "        text-align: right;\n",
       "    }\n",
       "</style>\n",
       "<table border=\"1\" class=\"dataframe\">\n",
       "  <thead>\n",
       "    <tr style=\"text-align: right;\">\n",
       "      <th></th>\n",
       "      <th>Show_Id</th>\n",
       "      <th>Category</th>\n",
       "      <th>Title</th>\n",
       "      <th>Director</th>\n",
       "      <th>Cast</th>\n",
       "      <th>Country</th>\n",
       "      <th>Release_Date</th>\n",
       "      <th>Rating</th>\n",
       "      <th>Duration</th>\n",
       "      <th>Type</th>\n",
       "      <th>Description</th>\n",
       "    </tr>\n",
       "  </thead>\n",
       "  <tbody>\n",
       "  </tbody>\n",
       "</table>\n",
       "</div>"
      ],
      "text/plain": [
       "Empty DataFrame\n",
       "Columns: [Show_Id, Category, Title, Director, Cast, Country, Release_Date, Rating, Duration, Type, Description]\n",
       "Index: []"
      ]
     },
     "execution_count": 146,
     "metadata": {},
     "output_type": "execute_result"
    }
   ],
   "source": [
    "data[(data['Cast'] == 'Tom Cruise')]"
   ]
  },
  {
   "cell_type": "code",
   "execution_count": 148,
   "id": "3b714658-c412-494b-a01d-199a86bdda3d",
   "metadata": {},
   "outputs": [
    {
     "ename": "ValueError",
     "evalue": "Cannot mask with non-boolean array containing NA / NaN values",
     "output_type": "error",
     "traceback": [
      "\u001b[1;31m---------------------------------------------------------------------------\u001b[0m",
      "\u001b[1;31mValueError\u001b[0m                                Traceback (most recent call last)",
      "Cell \u001b[1;32mIn[148], line 1\u001b[0m\n\u001b[1;32m----> 1\u001b[0m \u001b[43mdata\u001b[49m\u001b[43m[\u001b[49m\u001b[43mdata\u001b[49m\u001b[43m[\u001b[49m\u001b[38;5;124;43m'\u001b[39;49m\u001b[38;5;124;43mCast\u001b[39;49m\u001b[38;5;124;43m'\u001b[39;49m\u001b[43m]\u001b[49m\u001b[38;5;241;43m.\u001b[39;49m\u001b[43mstr\u001b[49m\u001b[38;5;241;43m.\u001b[39;49m\u001b[43mcontains\u001b[49m\u001b[43m(\u001b[49m\u001b[38;5;124;43m'\u001b[39;49m\u001b[38;5;124;43mTom Cruise\u001b[39;49m\u001b[38;5;124;43m'\u001b[39;49m\u001b[43m)\u001b[49m\u001b[43m]\u001b[49m\n",
      "File \u001b[1;32m~\\AppData\\Local\\Programs\\Python\\Python38\\lib\\site-packages\\pandas\\core\\frame.py:3751\u001b[0m, in \u001b[0;36mDataFrame.__getitem__\u001b[1;34m(self, key)\u001b[0m\n\u001b[0;32m   3748\u001b[0m     \u001b[38;5;28;01mreturn\u001b[39;00m \u001b[38;5;28mself\u001b[39m\u001b[38;5;241m.\u001b[39mwhere(key)\n\u001b[0;32m   3750\u001b[0m \u001b[38;5;66;03m# Do we have a (boolean) 1d indexer?\u001b[39;00m\n\u001b[1;32m-> 3751\u001b[0m \u001b[38;5;28;01mif\u001b[39;00m \u001b[43mcom\u001b[49m\u001b[38;5;241;43m.\u001b[39;49m\u001b[43mis_bool_indexer\u001b[49m\u001b[43m(\u001b[49m\u001b[43mkey\u001b[49m\u001b[43m)\u001b[49m:\n\u001b[0;32m   3752\u001b[0m     \u001b[38;5;28;01mreturn\u001b[39;00m \u001b[38;5;28mself\u001b[39m\u001b[38;5;241m.\u001b[39m_getitem_bool_array(key)\n\u001b[0;32m   3754\u001b[0m \u001b[38;5;66;03m# We are left with two options: a single key, and a collection of keys,\u001b[39;00m\n\u001b[0;32m   3755\u001b[0m \u001b[38;5;66;03m# We interpret tuples as collections only for non-MultiIndex\u001b[39;00m\n",
      "File \u001b[1;32m~\\AppData\\Local\\Programs\\Python\\Python38\\lib\\site-packages\\pandas\\core\\common.py:134\u001b[0m, in \u001b[0;36mis_bool_indexer\u001b[1;34m(key)\u001b[0m\n\u001b[0;32m    130\u001b[0m     na_msg \u001b[38;5;241m=\u001b[39m \u001b[38;5;124m\"\u001b[39m\u001b[38;5;124mCannot mask with non-boolean array containing NA / NaN values\u001b[39m\u001b[38;5;124m\"\u001b[39m\n\u001b[0;32m    131\u001b[0m     \u001b[38;5;28;01mif\u001b[39;00m lib\u001b[38;5;241m.\u001b[39minfer_dtype(key_array) \u001b[38;5;241m==\u001b[39m \u001b[38;5;124m\"\u001b[39m\u001b[38;5;124mboolean\u001b[39m\u001b[38;5;124m\"\u001b[39m \u001b[38;5;129;01mand\u001b[39;00m isna(key_array)\u001b[38;5;241m.\u001b[39many():\n\u001b[0;32m    132\u001b[0m         \u001b[38;5;66;03m# Don't raise on e.g. [\"A\", \"B\", np.nan], see\u001b[39;00m\n\u001b[0;32m    133\u001b[0m         \u001b[38;5;66;03m#  test_loc_getitem_list_of_labels_categoricalindex_with_na\u001b[39;00m\n\u001b[1;32m--> 134\u001b[0m         \u001b[38;5;28;01mraise\u001b[39;00m \u001b[38;5;167;01mValueError\u001b[39;00m(na_msg)\n\u001b[0;32m    135\u001b[0m     \u001b[38;5;28;01mreturn\u001b[39;00m \u001b[38;5;28;01mFalse\u001b[39;00m\n\u001b[0;32m    136\u001b[0m \u001b[38;5;28;01mreturn\u001b[39;00m \u001b[38;5;28;01mTrue\u001b[39;00m\n",
      "\u001b[1;31mValueError\u001b[0m: Cannot mask with non-boolean array containing NA / NaN values"
     ]
    }
   ],
   "source": [
    "data[data['Cast'].str.contains('Tom Cruise')]"
   ]
  },
  {
   "cell_type": "markdown",
   "id": "224d02a8-fdb5-4fea-99f2-44bd179c908b",
   "metadata": {},
   "source": [
    "Receiving error as Cast column has Null values. So now we'll handle nullvalues"
   ]
  },
  {
   "cell_type": "code",
   "execution_count": 152,
   "id": "98f0d620-5b4d-408e-a201-8b78b942a03d",
   "metadata": {},
   "outputs": [
    {
     "data": {
      "text/plain": [
       "Cast\n",
       "False    7069\n",
       "True      718\n",
       "Name: count, dtype: int64"
      ]
     },
     "execution_count": 152,
     "metadata": {},
     "output_type": "execute_result"
    }
   ],
   "source": [
    "# dropping null values from cast column\n",
    "data['Cast'].isnull().value_counts()"
   ]
  },
  {
   "cell_type": "code",
   "execution_count": 156,
   "id": "0697091c-89f4-4310-8af9-0703fa14c4b0",
   "metadata": {},
   "outputs": [],
   "source": [
    "data_cast = data['Cast'].dropna()"
   ]
  },
  {
   "cell_type": "code",
   "execution_count": 157,
   "id": "7dbd6b5f-f3c4-4be9-8c21-71351bfad158",
   "metadata": {},
   "outputs": [
    {
     "data": {
      "text/plain": [
       "0    João Miguel, Bianca Comparato, Michel Gomes, R...\n",
       "1    Demián Bichir, Héctor Bonilla, Oscar Serrano, ...\n",
       "2    Tedd Chan, Stella Chung, Henley Hii, Lawrence ...\n",
       "3    Elijah Wood, John C. Reilly, Jennifer Connelly...\n",
       "4    Jim Sturgess, Kevin Spacey, Kate Bosworth, Aar...\n",
       "Name: Cast, dtype: object"
      ]
     },
     "execution_count": 157,
     "metadata": {},
     "output_type": "execute_result"
    }
   ],
   "source": [
    "data_cast.head()"
   ]
  },
  {
   "cell_type": "code",
   "execution_count": 160,
   "id": "71962e36-08a8-4587-ab9f-0cc449eb0c64",
   "metadata": {},
   "outputs": [
    {
     "data": {
      "text/plain": [
       "Cast\n",
       "False    7067\n",
       "True        2\n",
       "Name: count, dtype: int64"
      ]
     },
     "execution_count": 160,
     "metadata": {},
     "output_type": "execute_result"
    }
   ],
   "source": [
    "data_cast.str.contains('Tom Cruise').value_counts()"
   ]
  },
  {
   "cell_type": "markdown",
   "id": "4f13831b-dcb9-469d-bf38-502a2fdba256",
   "metadata": {},
   "source": [
    "##### Records of two movies in which Tom Cruise was casted"
   ]
  },
  {
   "cell_type": "code",
   "execution_count": 161,
   "id": "fd679c02-e970-43b3-8194-818351444191",
   "metadata": {},
   "outputs": [],
   "source": [
    "# Drop null values from entire dataset\n",
    "data_new=  data.dropna()"
   ]
  },
  {
   "cell_type": "code",
   "execution_count": 166,
   "id": "b2f9bc36-0295-479b-8110-47dab565558a",
   "metadata": {},
   "outputs": [
    {
     "data": {
      "text/html": [
       "<div>\n",
       "<style scoped>\n",
       "    .dataframe tbody tr th:only-of-type {\n",
       "        vertical-align: middle;\n",
       "    }\n",
       "\n",
       "    .dataframe tbody tr th {\n",
       "        vertical-align: top;\n",
       "    }\n",
       "\n",
       "    .dataframe thead th {\n",
       "        text-align: right;\n",
       "    }\n",
       "</style>\n",
       "<table border=\"1\" class=\"dataframe\">\n",
       "  <thead>\n",
       "    <tr style=\"text-align: right;\">\n",
       "      <th></th>\n",
       "      <th>Show_Id</th>\n",
       "      <th>Category</th>\n",
       "      <th>Title</th>\n",
       "      <th>Director</th>\n",
       "      <th>Cast</th>\n",
       "      <th>Country</th>\n",
       "      <th>Release_Date</th>\n",
       "      <th>Rating</th>\n",
       "      <th>Duration</th>\n",
       "      <th>Type</th>\n",
       "      <th>Description</th>\n",
       "    </tr>\n",
       "  </thead>\n",
       "  <tbody>\n",
       "    <tr>\n",
       "      <th>3860</th>\n",
       "      <td>s3861</td>\n",
       "      <td>Movie</td>\n",
       "      <td>Magnolia</td>\n",
       "      <td>Paul Thomas Anderson</td>\n",
       "      <td>Jeremy Blackman, Tom Cruise, Melinda Dillon, A...</td>\n",
       "      <td>United States</td>\n",
       "      <td>2020-01-01</td>\n",
       "      <td>R</td>\n",
       "      <td>189 min</td>\n",
       "      <td>Dramas, Independent Movies</td>\n",
       "      <td>Through chance, human action, past history and...</td>\n",
       "    </tr>\n",
       "    <tr>\n",
       "      <th>5071</th>\n",
       "      <td>s5071</td>\n",
       "      <td>Movie</td>\n",
       "      <td>Rain Man</td>\n",
       "      <td>Barry Levinson</td>\n",
       "      <td>Dustin Hoffman, Tom Cruise, Valeria Golino, Ge...</td>\n",
       "      <td>United States</td>\n",
       "      <td>2019-07-01</td>\n",
       "      <td>R</td>\n",
       "      <td>134 min</td>\n",
       "      <td>Classic Movies, Dramas</td>\n",
       "      <td>A fast-talking yuppie is forced to slow down w...</td>\n",
       "    </tr>\n",
       "  </tbody>\n",
       "</table>\n",
       "</div>"
      ],
      "text/plain": [
       "     Show_Id Category     Title              Director  \\\n",
       "3860   s3861    Movie  Magnolia  Paul Thomas Anderson   \n",
       "5071   s5071    Movie  Rain Man        Barry Levinson   \n",
       "\n",
       "                                                   Cast        Country  \\\n",
       "3860  Jeremy Blackman, Tom Cruise, Melinda Dillon, A...  United States   \n",
       "5071  Dustin Hoffman, Tom Cruise, Valeria Golino, Ge...  United States   \n",
       "\n",
       "     Release_Date Rating Duration                        Type  \\\n",
       "3860   2020-01-01      R  189 min  Dramas, Independent Movies   \n",
       "5071   2019-07-01      R  134 min      Classic Movies, Dramas   \n",
       "\n",
       "                                            Description  \n",
       "3860  Through chance, human action, past history and...  \n",
       "5071  A fast-talking yuppie is forced to slow down w...  "
      ]
     },
     "execution_count": 166,
     "metadata": {},
     "output_type": "execute_result"
    }
   ],
   "source": [
    "data_new[data_new['Cast'].str.contains('Tom Cruise')]"
   ]
  },
  {
   "cell_type": "markdown",
   "id": "33b38ed5-179b-4c6f-bb20-352dc10b2fa1",
   "metadata": {},
   "source": [
    "#### 9. What are the different ratings defined by the Netflix"
   ]
  },
  {
   "cell_type": "code",
   "execution_count": 167,
   "id": "e79c20a8-81ab-460a-bbff-fc303fbc1dbd",
   "metadata": {},
   "outputs": [
    {
     "data": {
      "text/plain": [
       "array(['TV-MA', 'R', 'PG-13', 'TV-14', 'TV-PG', 'NR', 'TV-G', 'TV-Y', nan,\n",
       "       'TV-Y7', 'PG', 'G', 'NC-17', 'TV-Y7-FV', 'UR'], dtype=object)"
      ]
     },
     "execution_count": 167,
     "metadata": {},
     "output_type": "execute_result"
    }
   ],
   "source": [
    "data['Rating'].unique()"
   ]
  },
  {
   "cell_type": "code",
   "execution_count": 168,
   "id": "a46a7601-9d49-479d-a543-64e55c53f590",
   "metadata": {},
   "outputs": [
    {
     "data": {
      "text/plain": [
       "14"
      ]
     },
     "execution_count": 168,
     "metadata": {},
     "output_type": "execute_result"
    }
   ],
   "source": [
    "data['Rating'].nunique()"
   ]
  },
  {
   "cell_type": "markdown",
   "id": "ed709aeb-f971-4a5a-bd88-dc6e9cae52fa",
   "metadata": {},
   "source": [
    "#### 10. How many movies got TV-14 rating in Canada?"
   ]
  },
  {
   "cell_type": "code",
   "execution_count": 186,
   "id": "24cfbc9b-b1bb-4042-bccd-686a86b352bb",
   "metadata": {},
   "outputs": [
    {
     "data": {
      "text/plain": [
       "(11, 11)"
      ]
     },
     "execution_count": 186,
     "metadata": {},
     "output_type": "execute_result"
    }
   ],
   "source": [
    " data[(data['Category']== 'Movie') & (data['Rating'] == 'TV-14') & (data['Country']== 'Canada')].shape"
   ]
  },
  {
   "cell_type": "markdown",
   "id": "ddbcc2b2-e916-4932-9fed-582ece30a174",
   "metadata": {},
   "source": [
    "11 movies got TV-14 rating in Canada"
   ]
  },
  {
   "cell_type": "markdown",
   "id": "d16b024e-6c5b-4e71-8df6-44c739879ad0",
   "metadata": {},
   "source": [
    "#### 11. How many TV-shows got the \"R\" Rating, after year = 2018?"
   ]
  },
  {
   "cell_type": "code",
   "execution_count": 189,
   "id": "b1235b1c-70d2-4093-a16e-340e40e7d2a5",
   "metadata": {},
   "outputs": [
    {
     "data": {
      "text/html": [
       "<div>\n",
       "<style scoped>\n",
       "    .dataframe tbody tr th:only-of-type {\n",
       "        vertical-align: middle;\n",
       "    }\n",
       "\n",
       "    .dataframe tbody tr th {\n",
       "        vertical-align: top;\n",
       "    }\n",
       "\n",
       "    .dataframe thead th {\n",
       "        text-align: right;\n",
       "    }\n",
       "</style>\n",
       "<table border=\"1\" class=\"dataframe\">\n",
       "  <thead>\n",
       "    <tr style=\"text-align: right;\">\n",
       "      <th></th>\n",
       "      <th>Show_Id</th>\n",
       "      <th>Category</th>\n",
       "      <th>Title</th>\n",
       "      <th>Director</th>\n",
       "      <th>Cast</th>\n",
       "      <th>Country</th>\n",
       "      <th>Release_Date</th>\n",
       "      <th>Rating</th>\n",
       "      <th>Duration</th>\n",
       "      <th>Type</th>\n",
       "      <th>Description</th>\n",
       "    </tr>\n",
       "  </thead>\n",
       "  <tbody>\n",
       "    <tr>\n",
       "      <th>6437</th>\n",
       "      <td>s6436</td>\n",
       "      <td>TV Show</td>\n",
       "      <td>The Hateful Eight: Extended Version</td>\n",
       "      <td>Quentin Tarantino</td>\n",
       "      <td>Samuel L. Jackson, Kurt Russell, Jennifer Jaso...</td>\n",
       "      <td>NaN</td>\n",
       "      <td>2019-04-25</td>\n",
       "      <td>R</td>\n",
       "      <td>1 Season</td>\n",
       "      <td>TV Shows</td>\n",
       "      <td>Trapped at a stagecoach stop as a storm rages ...</td>\n",
       "    </tr>\n",
       "  </tbody>\n",
       "</table>\n",
       "</div>"
      ],
      "text/plain": [
       "     Show_Id Category                                Title           Director  \\\n",
       "6437   s6436  TV Show  The Hateful Eight: Extended Version  Quentin Tarantino   \n",
       "\n",
       "                                                   Cast Country Release_Date  \\\n",
       "6437  Samuel L. Jackson, Kurt Russell, Jennifer Jaso...     NaN   2019-04-25   \n",
       "\n",
       "     Rating  Duration      Type  \\\n",
       "6437      R  1 Season  TV Shows   \n",
       "\n",
       "                                            Description  \n",
       "6437  Trapped at a stagecoach stop as a storm rages ...  "
      ]
     },
     "execution_count": 189,
     "metadata": {},
     "output_type": "execute_result"
    }
   ],
   "source": [
    "data[ (data['Category'] == 'TV Show') & (data['Rating'] == 'R') & (data['Release_Date'].dt.year > 2018) ]"
   ]
  },
  {
   "cell_type": "markdown",
   "id": "038623a4-5eb0-4317-a621-b3765304a0f9",
   "metadata": {},
   "source": [
    "#### 12. What is the max duration of a Movie/Show on Netflix?"
   ]
  },
  {
   "cell_type": "code",
   "execution_count": 192,
   "id": "95de9731-c9b8-4114-8efb-1e185ea27247",
   "metadata": {},
   "outputs": [
    {
     "data": {
      "text/html": [
       "<div>\n",
       "<style scoped>\n",
       "    .dataframe tbody tr th:only-of-type {\n",
       "        vertical-align: middle;\n",
       "    }\n",
       "\n",
       "    .dataframe tbody tr th {\n",
       "        vertical-align: top;\n",
       "    }\n",
       "\n",
       "    .dataframe thead th {\n",
       "        text-align: right;\n",
       "    }\n",
       "</style>\n",
       "<table border=\"1\" class=\"dataframe\">\n",
       "  <thead>\n",
       "    <tr style=\"text-align: right;\">\n",
       "      <th></th>\n",
       "      <th>Show_Id</th>\n",
       "      <th>Category</th>\n",
       "      <th>Title</th>\n",
       "      <th>Director</th>\n",
       "      <th>Cast</th>\n",
       "      <th>Country</th>\n",
       "      <th>Release_Date</th>\n",
       "      <th>Rating</th>\n",
       "      <th>Duration</th>\n",
       "      <th>Type</th>\n",
       "      <th>Description</th>\n",
       "    </tr>\n",
       "  </thead>\n",
       "  <tbody>\n",
       "    <tr>\n",
       "      <th>0</th>\n",
       "      <td>s1</td>\n",
       "      <td>TV Show</td>\n",
       "      <td>3%</td>\n",
       "      <td>NaN</td>\n",
       "      <td>João Miguel, Bianca Comparato, Michel Gomes, R...</td>\n",
       "      <td>Brazil</td>\n",
       "      <td>2020-08-14</td>\n",
       "      <td>TV-MA</td>\n",
       "      <td>4 Seasons</td>\n",
       "      <td>International TV Shows, TV Dramas, TV Sci-Fi &amp;...</td>\n",
       "      <td>In a future where the elite inhabit an island ...</td>\n",
       "    </tr>\n",
       "    <tr>\n",
       "      <th>1</th>\n",
       "      <td>s2</td>\n",
       "      <td>Movie</td>\n",
       "      <td>07:19</td>\n",
       "      <td>Jorge Michel Grau</td>\n",
       "      <td>Demián Bichir, Héctor Bonilla, Oscar Serrano, ...</td>\n",
       "      <td>Mexico</td>\n",
       "      <td>2016-12-23</td>\n",
       "      <td>TV-MA</td>\n",
       "      <td>93 min</td>\n",
       "      <td>Dramas, International Movies</td>\n",
       "      <td>After a devastating earthquake hits Mexico Cit...</td>\n",
       "    </tr>\n",
       "    <tr>\n",
       "      <th>2</th>\n",
       "      <td>s3</td>\n",
       "      <td>Movie</td>\n",
       "      <td>23:59</td>\n",
       "      <td>Gilbert Chan</td>\n",
       "      <td>Tedd Chan, Stella Chung, Henley Hii, Lawrence ...</td>\n",
       "      <td>Singapore</td>\n",
       "      <td>2018-12-20</td>\n",
       "      <td>R</td>\n",
       "      <td>78 min</td>\n",
       "      <td>Horror Movies, International Movies</td>\n",
       "      <td>When an army recruit is found dead, his fellow...</td>\n",
       "    </tr>\n",
       "    <tr>\n",
       "      <th>3</th>\n",
       "      <td>s4</td>\n",
       "      <td>Movie</td>\n",
       "      <td>9</td>\n",
       "      <td>Shane Acker</td>\n",
       "      <td>Elijah Wood, John C. Reilly, Jennifer Connelly...</td>\n",
       "      <td>United States</td>\n",
       "      <td>2017-11-16</td>\n",
       "      <td>PG-13</td>\n",
       "      <td>80 min</td>\n",
       "      <td>Action &amp; Adventure, Independent Movies, Sci-Fi...</td>\n",
       "      <td>In a postapocalyptic world, rag-doll robots hi...</td>\n",
       "    </tr>\n",
       "    <tr>\n",
       "      <th>4</th>\n",
       "      <td>s5</td>\n",
       "      <td>Movie</td>\n",
       "      <td>21</td>\n",
       "      <td>Robert Luketic</td>\n",
       "      <td>Jim Sturgess, Kevin Spacey, Kate Bosworth, Aar...</td>\n",
       "      <td>United States</td>\n",
       "      <td>2020-01-01</td>\n",
       "      <td>PG-13</td>\n",
       "      <td>123 min</td>\n",
       "      <td>Dramas</td>\n",
       "      <td>A brilliant group of students become card-coun...</td>\n",
       "    </tr>\n",
       "  </tbody>\n",
       "</table>\n",
       "</div>"
      ],
      "text/plain": [
       "  Show_Id Category  Title           Director  \\\n",
       "0      s1  TV Show     3%                NaN   \n",
       "1      s2    Movie  07:19  Jorge Michel Grau   \n",
       "2      s3    Movie  23:59       Gilbert Chan   \n",
       "3      s4    Movie      9        Shane Acker   \n",
       "4      s5    Movie     21     Robert Luketic   \n",
       "\n",
       "                                                Cast        Country  \\\n",
       "0  João Miguel, Bianca Comparato, Michel Gomes, R...         Brazil   \n",
       "1  Demián Bichir, Héctor Bonilla, Oscar Serrano, ...         Mexico   \n",
       "2  Tedd Chan, Stella Chung, Henley Hii, Lawrence ...      Singapore   \n",
       "3  Elijah Wood, John C. Reilly, Jennifer Connelly...  United States   \n",
       "4  Jim Sturgess, Kevin Spacey, Kate Bosworth, Aar...  United States   \n",
       "\n",
       "  Release_Date Rating   Duration  \\\n",
       "0   2020-08-14  TV-MA  4 Seasons   \n",
       "1   2016-12-23  TV-MA     93 min   \n",
       "2   2018-12-20      R     78 min   \n",
       "3   2017-11-16  PG-13     80 min   \n",
       "4   2020-01-01  PG-13    123 min   \n",
       "\n",
       "                                                Type  \\\n",
       "0  International TV Shows, TV Dramas, TV Sci-Fi &...   \n",
       "1                       Dramas, International Movies   \n",
       "2                Horror Movies, International Movies   \n",
       "3  Action & Adventure, Independent Movies, Sci-Fi...   \n",
       "4                                             Dramas   \n",
       "\n",
       "                                         Description  \n",
       "0  In a future where the elite inhabit an island ...  \n",
       "1  After a devastating earthquake hits Mexico Cit...  \n",
       "2  When an army recruit is found dead, his fellow...  \n",
       "3  In a postapocalyptic world, rag-doll robots hi...  \n",
       "4  A brilliant group of students become card-coun...  "
      ]
     },
     "execution_count": 192,
     "metadata": {},
     "output_type": "execute_result"
    }
   ],
   "source": [
    "data.head()"
   ]
  },
  {
   "cell_type": "markdown",
   "id": "22944c22-11ba-4bac-8f67-a86aa37432ad",
   "metadata": {},
   "source": [
    "##### In the duration column we have two issues with the elements\n",
    "1. For some duration is mentioned in Seasons format and for others its in mins\n",
    "2. We need to separate the column to find the max as data type of \"duration\" is of 'Object' type "
   ]
  },
  {
   "cell_type": "code",
   "execution_count": 194,
   "id": "fc74d34d-765c-4707-ac7a-54565acb7927",
   "metadata": {},
   "outputs": [],
   "source": [
    "# We'll split the Duration column into two ' Minutes and Units'\n",
    "# We'll ignore Seasons for now"
   ]
  },
  {
   "cell_type": "code",
   "execution_count": 198,
   "id": "16540317-6eec-40da-b315-18566976fd03",
   "metadata": {},
   "outputs": [],
   "source": [
    "data[['Minutes', 'Unit']] = data.Duration.str.split(' ', expand=True) # expand will return the two different columns"
   ]
  },
  {
   "cell_type": "code",
   "execution_count": 197,
   "id": "0889ec9f-cfa7-4c0a-8b32-4eeb95aecea0",
   "metadata": {},
   "outputs": [
    {
     "data": {
      "text/html": [
       "<div>\n",
       "<style scoped>\n",
       "    .dataframe tbody tr th:only-of-type {\n",
       "        vertical-align: middle;\n",
       "    }\n",
       "\n",
       "    .dataframe tbody tr th {\n",
       "        vertical-align: top;\n",
       "    }\n",
       "\n",
       "    .dataframe thead th {\n",
       "        text-align: right;\n",
       "    }\n",
       "</style>\n",
       "<table border=\"1\" class=\"dataframe\">\n",
       "  <thead>\n",
       "    <tr style=\"text-align: right;\">\n",
       "      <th></th>\n",
       "      <th>Show_Id</th>\n",
       "      <th>Category</th>\n",
       "      <th>Title</th>\n",
       "      <th>Director</th>\n",
       "      <th>Cast</th>\n",
       "      <th>Country</th>\n",
       "      <th>Release_Date</th>\n",
       "      <th>Rating</th>\n",
       "      <th>Duration</th>\n",
       "      <th>Type</th>\n",
       "      <th>Description</th>\n",
       "      <th>Minutes</th>\n",
       "      <th>Unit</th>\n",
       "    </tr>\n",
       "  </thead>\n",
       "  <tbody>\n",
       "    <tr>\n",
       "      <th>0</th>\n",
       "      <td>s1</td>\n",
       "      <td>TV Show</td>\n",
       "      <td>3%</td>\n",
       "      <td>NaN</td>\n",
       "      <td>João Miguel, Bianca Comparato, Michel Gomes, R...</td>\n",
       "      <td>Brazil</td>\n",
       "      <td>2020-08-14</td>\n",
       "      <td>TV-MA</td>\n",
       "      <td>4 Seasons</td>\n",
       "      <td>International TV Shows, TV Dramas, TV Sci-Fi &amp;...</td>\n",
       "      <td>In a future where the elite inhabit an island ...</td>\n",
       "      <td>4</td>\n",
       "      <td>Seasons</td>\n",
       "    </tr>\n",
       "    <tr>\n",
       "      <th>1</th>\n",
       "      <td>s2</td>\n",
       "      <td>Movie</td>\n",
       "      <td>07:19</td>\n",
       "      <td>Jorge Michel Grau</td>\n",
       "      <td>Demián Bichir, Héctor Bonilla, Oscar Serrano, ...</td>\n",
       "      <td>Mexico</td>\n",
       "      <td>2016-12-23</td>\n",
       "      <td>TV-MA</td>\n",
       "      <td>93 min</td>\n",
       "      <td>Dramas, International Movies</td>\n",
       "      <td>After a devastating earthquake hits Mexico Cit...</td>\n",
       "      <td>93</td>\n",
       "      <td>min</td>\n",
       "    </tr>\n",
       "    <tr>\n",
       "      <th>2</th>\n",
       "      <td>s3</td>\n",
       "      <td>Movie</td>\n",
       "      <td>23:59</td>\n",
       "      <td>Gilbert Chan</td>\n",
       "      <td>Tedd Chan, Stella Chung, Henley Hii, Lawrence ...</td>\n",
       "      <td>Singapore</td>\n",
       "      <td>2018-12-20</td>\n",
       "      <td>R</td>\n",
       "      <td>78 min</td>\n",
       "      <td>Horror Movies, International Movies</td>\n",
       "      <td>When an army recruit is found dead, his fellow...</td>\n",
       "      <td>78</td>\n",
       "      <td>min</td>\n",
       "    </tr>\n",
       "    <tr>\n",
       "      <th>3</th>\n",
       "      <td>s4</td>\n",
       "      <td>Movie</td>\n",
       "      <td>9</td>\n",
       "      <td>Shane Acker</td>\n",
       "      <td>Elijah Wood, John C. Reilly, Jennifer Connelly...</td>\n",
       "      <td>United States</td>\n",
       "      <td>2017-11-16</td>\n",
       "      <td>PG-13</td>\n",
       "      <td>80 min</td>\n",
       "      <td>Action &amp; Adventure, Independent Movies, Sci-Fi...</td>\n",
       "      <td>In a postapocalyptic world, rag-doll robots hi...</td>\n",
       "      <td>80</td>\n",
       "      <td>min</td>\n",
       "    </tr>\n",
       "    <tr>\n",
       "      <th>4</th>\n",
       "      <td>s5</td>\n",
       "      <td>Movie</td>\n",
       "      <td>21</td>\n",
       "      <td>Robert Luketic</td>\n",
       "      <td>Jim Sturgess, Kevin Spacey, Kate Bosworth, Aar...</td>\n",
       "      <td>United States</td>\n",
       "      <td>2020-01-01</td>\n",
       "      <td>PG-13</td>\n",
       "      <td>123 min</td>\n",
       "      <td>Dramas</td>\n",
       "      <td>A brilliant group of students become card-coun...</td>\n",
       "      <td>123</td>\n",
       "      <td>min</td>\n",
       "    </tr>\n",
       "  </tbody>\n",
       "</table>\n",
       "</div>"
      ],
      "text/plain": [
       "  Show_Id Category  Title           Director  \\\n",
       "0      s1  TV Show     3%                NaN   \n",
       "1      s2    Movie  07:19  Jorge Michel Grau   \n",
       "2      s3    Movie  23:59       Gilbert Chan   \n",
       "3      s4    Movie      9        Shane Acker   \n",
       "4      s5    Movie     21     Robert Luketic   \n",
       "\n",
       "                                                Cast        Country  \\\n",
       "0  João Miguel, Bianca Comparato, Michel Gomes, R...         Brazil   \n",
       "1  Demián Bichir, Héctor Bonilla, Oscar Serrano, ...         Mexico   \n",
       "2  Tedd Chan, Stella Chung, Henley Hii, Lawrence ...      Singapore   \n",
       "3  Elijah Wood, John C. Reilly, Jennifer Connelly...  United States   \n",
       "4  Jim Sturgess, Kevin Spacey, Kate Bosworth, Aar...  United States   \n",
       "\n",
       "  Release_Date Rating   Duration  \\\n",
       "0   2020-08-14  TV-MA  4 Seasons   \n",
       "1   2016-12-23  TV-MA     93 min   \n",
       "2   2018-12-20      R     78 min   \n",
       "3   2017-11-16  PG-13     80 min   \n",
       "4   2020-01-01  PG-13    123 min   \n",
       "\n",
       "                                                Type  \\\n",
       "0  International TV Shows, TV Dramas, TV Sci-Fi &...   \n",
       "1                       Dramas, International Movies   \n",
       "2                Horror Movies, International Movies   \n",
       "3  Action & Adventure, Independent Movies, Sci-Fi...   \n",
       "4                                             Dramas   \n",
       "\n",
       "                                         Description Minutes     Unit  \n",
       "0  In a future where the elite inhabit an island ...       4  Seasons  \n",
       "1  After a devastating earthquake hits Mexico Cit...      93      min  \n",
       "2  When an army recruit is found dead, his fellow...      78      min  \n",
       "3  In a postapocalyptic world, rag-doll robots hi...      80      min  \n",
       "4  A brilliant group of students become card-coun...     123      min  "
      ]
     },
     "execution_count": 197,
     "metadata": {},
     "output_type": "execute_result"
    }
   ],
   "source": [
    "data.head()"
   ]
  },
  {
   "cell_type": "code",
   "execution_count": 203,
   "id": "86f7b353-f8cb-4bff-a3a5-eee7539b3821",
   "metadata": {},
   "outputs": [
    {
     "data": {
      "text/plain": [
       "dtype('O')"
      ]
     },
     "execution_count": 203,
     "metadata": {},
     "output_type": "execute_result"
    }
   ],
   "source": [
    "data.Minutes.dtype"
   ]
  },
  {
   "cell_type": "code",
   "execution_count": 211,
   "id": "ce9cb190-d66f-422f-8642-7b634800fefd",
   "metadata": {},
   "outputs": [],
   "source": [
    "# Converting Minutes column from object type to numeric type \n",
    "data['Minutes']= pd.to_numeric(data['Minutes'])"
   ]
  },
  {
   "cell_type": "code",
   "execution_count": 212,
   "id": "ead7a77d-439f-49c7-80cc-668494a9ba58",
   "metadata": {},
   "outputs": [
    {
     "data": {
      "text/plain": [
       "dtype('int64')"
      ]
     },
     "execution_count": 212,
     "metadata": {},
     "output_type": "execute_result"
    }
   ],
   "source": [
    "data.Minutes.dtype"
   ]
  },
  {
   "cell_type": "code",
   "execution_count": 213,
   "id": "17aacd1d-77a6-4d77-95e4-fb037ffe5bf9",
   "metadata": {},
   "outputs": [
    {
     "data": {
      "text/plain": [
       "312"
      ]
     },
     "execution_count": 213,
     "metadata": {},
     "output_type": "execute_result"
    }
   ],
   "source": [
    "data.Minutes.max()"
   ]
  },
  {
   "cell_type": "markdown",
   "id": "8dd5e3fa-921c-4f57-9f49-896537f8c7e8",
   "metadata": {},
   "source": [
    "#### The Maximum duration for a Movie/TVshow is 312 Minutes i.e. 5 Hrs 12 Minutes long"
   ]
  },
  {
   "cell_type": "code",
   "execution_count": 221,
   "id": "7d24a04c-d84a-40bb-b37d-4397ac436c58",
   "metadata": {},
   "outputs": [],
   "source": [
    "# Finding movie with the max duration\n",
    "    # Finding the inndex of movie with max duration\n",
    "max_duration_index = data['Minutes'].idxmax()\n",
    "\n",
    "    # Retriving the movie title with max duration\n",
    "movie_with_max_duration = data.loc[max_duration_index, 'Title']"
   ]
  },
  {
   "cell_type": "code",
   "execution_count": 222,
   "id": "15a4dbb6-aa17-4d3b-a530-0f4c800aacca",
   "metadata": {},
   "outputs": [
    {
     "data": {
      "text/plain": [
       "'Black Mirror: Bandersnatch'"
      ]
     },
     "execution_count": 222,
     "metadata": {},
     "output_type": "execute_result"
    }
   ],
   "source": [
    "movie_with_max_duration "
   ]
  },
  {
   "cell_type": "markdown",
   "id": "fed9738b-3837-45d0-8cf2-19c866113dff",
   "metadata": {},
   "source": [
    "#### 13. Which individual country has highest number of TV shows?"
   ]
  },
  {
   "cell_type": "code",
   "execution_count": 223,
   "id": "4a780332-4b48-4bb8-a8ca-fc255a63d11a",
   "metadata": {},
   "outputs": [
    {
     "data": {
      "text/html": [
       "<div>\n",
       "<style scoped>\n",
       "    .dataframe tbody tr th:only-of-type {\n",
       "        vertical-align: middle;\n",
       "    }\n",
       "\n",
       "    .dataframe tbody tr th {\n",
       "        vertical-align: top;\n",
       "    }\n",
       "\n",
       "    .dataframe thead th {\n",
       "        text-align: right;\n",
       "    }\n",
       "</style>\n",
       "<table border=\"1\" class=\"dataframe\">\n",
       "  <thead>\n",
       "    <tr style=\"text-align: right;\">\n",
       "      <th></th>\n",
       "      <th>Show_Id</th>\n",
       "      <th>Category</th>\n",
       "      <th>Title</th>\n",
       "      <th>Director</th>\n",
       "      <th>Cast</th>\n",
       "      <th>Country</th>\n",
       "      <th>Release_Date</th>\n",
       "      <th>Rating</th>\n",
       "      <th>Duration</th>\n",
       "      <th>Type</th>\n",
       "      <th>Description</th>\n",
       "      <th>Minutes</th>\n",
       "      <th>Unit</th>\n",
       "    </tr>\n",
       "  </thead>\n",
       "  <tbody>\n",
       "    <tr>\n",
       "      <th>0</th>\n",
       "      <td>s1</td>\n",
       "      <td>TV Show</td>\n",
       "      <td>3%</td>\n",
       "      <td>NaN</td>\n",
       "      <td>João Miguel, Bianca Comparato, Michel Gomes, R...</td>\n",
       "      <td>Brazil</td>\n",
       "      <td>2020-08-14</td>\n",
       "      <td>TV-MA</td>\n",
       "      <td>4 Seasons</td>\n",
       "      <td>International TV Shows, TV Dramas, TV Sci-Fi &amp;...</td>\n",
       "      <td>In a future where the elite inhabit an island ...</td>\n",
       "      <td>4</td>\n",
       "      <td>Seasons</td>\n",
       "    </tr>\n",
       "    <tr>\n",
       "      <th>1</th>\n",
       "      <td>s2</td>\n",
       "      <td>Movie</td>\n",
       "      <td>07:19</td>\n",
       "      <td>Jorge Michel Grau</td>\n",
       "      <td>Demián Bichir, Héctor Bonilla, Oscar Serrano, ...</td>\n",
       "      <td>Mexico</td>\n",
       "      <td>2016-12-23</td>\n",
       "      <td>TV-MA</td>\n",
       "      <td>93 min</td>\n",
       "      <td>Dramas, International Movies</td>\n",
       "      <td>After a devastating earthquake hits Mexico Cit...</td>\n",
       "      <td>93</td>\n",
       "      <td>min</td>\n",
       "    </tr>\n",
       "  </tbody>\n",
       "</table>\n",
       "</div>"
      ],
      "text/plain": [
       "  Show_Id Category  Title           Director  \\\n",
       "0      s1  TV Show     3%                NaN   \n",
       "1      s2    Movie  07:19  Jorge Michel Grau   \n",
       "\n",
       "                                                Cast Country Release_Date  \\\n",
       "0  João Miguel, Bianca Comparato, Michel Gomes, R...  Brazil   2020-08-14   \n",
       "1  Demián Bichir, Héctor Bonilla, Oscar Serrano, ...  Mexico   2016-12-23   \n",
       "\n",
       "  Rating   Duration                                               Type  \\\n",
       "0  TV-MA  4 Seasons  International TV Shows, TV Dramas, TV Sci-Fi &...   \n",
       "1  TV-MA     93 min                       Dramas, International Movies   \n",
       "\n",
       "                                         Description  Minutes     Unit  \n",
       "0  In a future where the elite inhabit an island ...        4  Seasons  \n",
       "1  After a devastating earthquake hits Mexico Cit...       93      min  "
      ]
     },
     "execution_count": 223,
     "metadata": {},
     "output_type": "execute_result"
    }
   ],
   "source": [
    "data.head(2)"
   ]
  },
  {
   "cell_type": "code",
   "execution_count": null,
   "id": "ff922a25-d1af-41d9-b038-c886750f1b70",
   "metadata": {},
   "outputs": [],
   "source": [
    "'''\n",
    "select country, count(*) as cnt\n",
    "from data \n",
    "where category = 'TV Show'\n",
    "group by country\n",
    "order by cnt desc\n",
    "limit 1\n",
    "'''"
   ]
  },
  {
   "cell_type": "code",
   "execution_count": 233,
   "id": "8fdd8a3d-4ebc-4858-9899-5cdba119d734",
   "metadata": {},
   "outputs": [],
   "source": [
    "# Filter by \"catergory\" : 'TV Show' and grouping by \"Country\"\n",
    "data_tvshow= data[data['Category']== 'TV Show']"
   ]
  },
  {
   "cell_type": "code",
   "execution_count": 235,
   "id": "4976f890-2005-4ed3-bb65-73ad4526c210",
   "metadata": {},
   "outputs": [
    {
     "data": {
      "text/html": [
       "<div>\n",
       "<style scoped>\n",
       "    .dataframe tbody tr th:only-of-type {\n",
       "        vertical-align: middle;\n",
       "    }\n",
       "\n",
       "    .dataframe tbody tr th {\n",
       "        vertical-align: top;\n",
       "    }\n",
       "\n",
       "    .dataframe thead th {\n",
       "        text-align: right;\n",
       "    }\n",
       "</style>\n",
       "<table border=\"1\" class=\"dataframe\">\n",
       "  <thead>\n",
       "    <tr style=\"text-align: right;\">\n",
       "      <th></th>\n",
       "      <th>Show_Id</th>\n",
       "      <th>Category</th>\n",
       "      <th>Title</th>\n",
       "      <th>Director</th>\n",
       "      <th>Cast</th>\n",
       "      <th>Country</th>\n",
       "      <th>Release_Date</th>\n",
       "      <th>Rating</th>\n",
       "      <th>Duration</th>\n",
       "      <th>Type</th>\n",
       "      <th>Description</th>\n",
       "      <th>Minutes</th>\n",
       "      <th>Unit</th>\n",
       "    </tr>\n",
       "  </thead>\n",
       "  <tbody>\n",
       "    <tr>\n",
       "      <th>0</th>\n",
       "      <td>s1</td>\n",
       "      <td>TV Show</td>\n",
       "      <td>3%</td>\n",
       "      <td>NaN</td>\n",
       "      <td>João Miguel, Bianca Comparato, Michel Gomes, R...</td>\n",
       "      <td>Brazil</td>\n",
       "      <td>2020-08-14</td>\n",
       "      <td>TV-MA</td>\n",
       "      <td>4 Seasons</td>\n",
       "      <td>International TV Shows, TV Dramas, TV Sci-Fi &amp;...</td>\n",
       "      <td>In a future where the elite inhabit an island ...</td>\n",
       "      <td>4</td>\n",
       "      <td>Seasons</td>\n",
       "    </tr>\n",
       "    <tr>\n",
       "      <th>5</th>\n",
       "      <td>s6</td>\n",
       "      <td>TV Show</td>\n",
       "      <td>46</td>\n",
       "      <td>Serdar Akar</td>\n",
       "      <td>Erdal Beşikçioğlu, Yasemin Allen, Melis Birkan...</td>\n",
       "      <td>Turkey</td>\n",
       "      <td>2017-07-01</td>\n",
       "      <td>TV-MA</td>\n",
       "      <td>1 Season</td>\n",
       "      <td>International TV Shows, TV Dramas, TV Mysteries</td>\n",
       "      <td>A genetics professor experiments with a treatm...</td>\n",
       "      <td>1</td>\n",
       "      <td>Season</td>\n",
       "    </tr>\n",
       "    <tr>\n",
       "      <th>11</th>\n",
       "      <td>s12</td>\n",
       "      <td>TV Show</td>\n",
       "      <td>1983</td>\n",
       "      <td>NaN</td>\n",
       "      <td>Robert Więckiewicz, Maciej Musiał, Michalina O...</td>\n",
       "      <td>Poland, United States</td>\n",
       "      <td>2018-11-30</td>\n",
       "      <td>TV-MA</td>\n",
       "      <td>1 Season</td>\n",
       "      <td>Crime TV Shows, International TV Shows, TV Dramas</td>\n",
       "      <td>In this dark alt-history thriller, a naïve law...</td>\n",
       "      <td>1</td>\n",
       "      <td>Season</td>\n",
       "    </tr>\n",
       "    <tr>\n",
       "      <th>12</th>\n",
       "      <td>s13</td>\n",
       "      <td>TV Show</td>\n",
       "      <td>1994</td>\n",
       "      <td>Diego Enrique Osorno</td>\n",
       "      <td>NaN</td>\n",
       "      <td>Mexico</td>\n",
       "      <td>2019-05-17</td>\n",
       "      <td>TV-MA</td>\n",
       "      <td>1 Season</td>\n",
       "      <td>Crime TV Shows, Docuseries, International TV S...</td>\n",
       "      <td>Archival video and new interviews examine Mexi...</td>\n",
       "      <td>1</td>\n",
       "      <td>Season</td>\n",
       "    </tr>\n",
       "    <tr>\n",
       "      <th>16</th>\n",
       "      <td>s17</td>\n",
       "      <td>TV Show</td>\n",
       "      <td>Feb-09</td>\n",
       "      <td>NaN</td>\n",
       "      <td>Shahd El Yaseen, Shaila Sabt, Hala, Hanadi Al-...</td>\n",
       "      <td>NaN</td>\n",
       "      <td>2019-03-20</td>\n",
       "      <td>TV-14</td>\n",
       "      <td>1 Season</td>\n",
       "      <td>International TV Shows, TV Dramas</td>\n",
       "      <td>As a psychology professor faces Alzheimer's, h...</td>\n",
       "      <td>1</td>\n",
       "      <td>Season</td>\n",
       "    </tr>\n",
       "  </tbody>\n",
       "</table>\n",
       "</div>"
      ],
      "text/plain": [
       "   Show_Id Category   Title              Director  \\\n",
       "0       s1  TV Show      3%                   NaN   \n",
       "5       s6  TV Show      46           Serdar Akar   \n",
       "11     s12  TV Show    1983                   NaN   \n",
       "12     s13  TV Show    1994  Diego Enrique Osorno   \n",
       "16     s17  TV Show  Feb-09                   NaN   \n",
       "\n",
       "                                                 Cast                Country  \\\n",
       "0   João Miguel, Bianca Comparato, Michel Gomes, R...                 Brazil   \n",
       "5   Erdal Beşikçioğlu, Yasemin Allen, Melis Birkan...                 Turkey   \n",
       "11  Robert Więckiewicz, Maciej Musiał, Michalina O...  Poland, United States   \n",
       "12                                                NaN                 Mexico   \n",
       "16  Shahd El Yaseen, Shaila Sabt, Hala, Hanadi Al-...                    NaN   \n",
       "\n",
       "   Release_Date Rating   Duration  \\\n",
       "0    2020-08-14  TV-MA  4 Seasons   \n",
       "5    2017-07-01  TV-MA   1 Season   \n",
       "11   2018-11-30  TV-MA   1 Season   \n",
       "12   2019-05-17  TV-MA   1 Season   \n",
       "16   2019-03-20  TV-14   1 Season   \n",
       "\n",
       "                                                 Type  \\\n",
       "0   International TV Shows, TV Dramas, TV Sci-Fi &...   \n",
       "5     International TV Shows, TV Dramas, TV Mysteries   \n",
       "11  Crime TV Shows, International TV Shows, TV Dramas   \n",
       "12  Crime TV Shows, Docuseries, International TV S...   \n",
       "16                  International TV Shows, TV Dramas   \n",
       "\n",
       "                                          Description  Minutes     Unit  \n",
       "0   In a future where the elite inhabit an island ...        4  Seasons  \n",
       "5   A genetics professor experiments with a treatm...        1   Season  \n",
       "11  In this dark alt-history thriller, a naïve law...        1   Season  \n",
       "12  Archival video and new interviews examine Mexi...        1   Season  \n",
       "16  As a psychology professor faces Alzheimer's, h...        1   Season  "
      ]
     },
     "execution_count": 235,
     "metadata": {},
     "output_type": "execute_result"
    }
   ],
   "source": [
    "data_tvshow.head()"
   ]
  },
  {
   "cell_type": "code",
   "execution_count": 239,
   "id": "29193f61-8eb3-4a97-8577-a476c28a40a9",
   "metadata": {},
   "outputs": [],
   "source": [
    "# Split the Country column, Reassigned the 'Country' column with the newly created list  and explode it to create new rows\n",
    "data_tvshow= data_tvshow.assign(Country=data_tvshow['Country'].str.split(',')).explode('Country')"
   ]
  },
  {
   "cell_type": "code",
   "execution_count": 238,
   "id": "15af9b05-4ff8-4bbf-a8ab-29c3f736b378",
   "metadata": {},
   "outputs": [
    {
     "data": {
      "text/html": [
       "<div>\n",
       "<style scoped>\n",
       "    .dataframe tbody tr th:only-of-type {\n",
       "        vertical-align: middle;\n",
       "    }\n",
       "\n",
       "    .dataframe tbody tr th {\n",
       "        vertical-align: top;\n",
       "    }\n",
       "\n",
       "    .dataframe thead th {\n",
       "        text-align: right;\n",
       "    }\n",
       "</style>\n",
       "<table border=\"1\" class=\"dataframe\">\n",
       "  <thead>\n",
       "    <tr style=\"text-align: right;\">\n",
       "      <th></th>\n",
       "      <th>Show_Id</th>\n",
       "      <th>Category</th>\n",
       "      <th>Title</th>\n",
       "      <th>Director</th>\n",
       "      <th>Cast</th>\n",
       "      <th>Country</th>\n",
       "      <th>Release_Date</th>\n",
       "      <th>Rating</th>\n",
       "      <th>Duration</th>\n",
       "      <th>Type</th>\n",
       "      <th>Description</th>\n",
       "      <th>Minutes</th>\n",
       "      <th>Unit</th>\n",
       "    </tr>\n",
       "  </thead>\n",
       "  <tbody>\n",
       "    <tr>\n",
       "      <th>0</th>\n",
       "      <td>s1</td>\n",
       "      <td>TV Show</td>\n",
       "      <td>3%</td>\n",
       "      <td>NaN</td>\n",
       "      <td>João Miguel, Bianca Comparato, Michel Gomes, R...</td>\n",
       "      <td>Brazil</td>\n",
       "      <td>2020-08-14</td>\n",
       "      <td>TV-MA</td>\n",
       "      <td>4 Seasons</td>\n",
       "      <td>International TV Shows, TV Dramas, TV Sci-Fi &amp;...</td>\n",
       "      <td>In a future where the elite inhabit an island ...</td>\n",
       "      <td>4</td>\n",
       "      <td>Seasons</td>\n",
       "    </tr>\n",
       "    <tr>\n",
       "      <th>5</th>\n",
       "      <td>s6</td>\n",
       "      <td>TV Show</td>\n",
       "      <td>46</td>\n",
       "      <td>Serdar Akar</td>\n",
       "      <td>Erdal Beşikçioğlu, Yasemin Allen, Melis Birkan...</td>\n",
       "      <td>Turkey</td>\n",
       "      <td>2017-07-01</td>\n",
       "      <td>TV-MA</td>\n",
       "      <td>1 Season</td>\n",
       "      <td>International TV Shows, TV Dramas, TV Mysteries</td>\n",
       "      <td>A genetics professor experiments with a treatm...</td>\n",
       "      <td>1</td>\n",
       "      <td>Season</td>\n",
       "    </tr>\n",
       "    <tr>\n",
       "      <th>11</th>\n",
       "      <td>s12</td>\n",
       "      <td>TV Show</td>\n",
       "      <td>1983</td>\n",
       "      <td>NaN</td>\n",
       "      <td>Robert Więckiewicz, Maciej Musiał, Michalina O...</td>\n",
       "      <td>Poland</td>\n",
       "      <td>2018-11-30</td>\n",
       "      <td>TV-MA</td>\n",
       "      <td>1 Season</td>\n",
       "      <td>Crime TV Shows, International TV Shows, TV Dramas</td>\n",
       "      <td>In this dark alt-history thriller, a naïve law...</td>\n",
       "      <td>1</td>\n",
       "      <td>Season</td>\n",
       "    </tr>\n",
       "    <tr>\n",
       "      <th>11</th>\n",
       "      <td>s12</td>\n",
       "      <td>TV Show</td>\n",
       "      <td>1983</td>\n",
       "      <td>NaN</td>\n",
       "      <td>Robert Więckiewicz, Maciej Musiał, Michalina O...</td>\n",
       "      <td>United States</td>\n",
       "      <td>2018-11-30</td>\n",
       "      <td>TV-MA</td>\n",
       "      <td>1 Season</td>\n",
       "      <td>Crime TV Shows, International TV Shows, TV Dramas</td>\n",
       "      <td>In this dark alt-history thriller, a naïve law...</td>\n",
       "      <td>1</td>\n",
       "      <td>Season</td>\n",
       "    </tr>\n",
       "    <tr>\n",
       "      <th>12</th>\n",
       "      <td>s13</td>\n",
       "      <td>TV Show</td>\n",
       "      <td>1994</td>\n",
       "      <td>Diego Enrique Osorno</td>\n",
       "      <td>NaN</td>\n",
       "      <td>Mexico</td>\n",
       "      <td>2019-05-17</td>\n",
       "      <td>TV-MA</td>\n",
       "      <td>1 Season</td>\n",
       "      <td>Crime TV Shows, Docuseries, International TV S...</td>\n",
       "      <td>Archival video and new interviews examine Mexi...</td>\n",
       "      <td>1</td>\n",
       "      <td>Season</td>\n",
       "    </tr>\n",
       "  </tbody>\n",
       "</table>\n",
       "</div>"
      ],
      "text/plain": [
       "   Show_Id Category Title              Director  \\\n",
       "0       s1  TV Show    3%                   NaN   \n",
       "5       s6  TV Show    46           Serdar Akar   \n",
       "11     s12  TV Show  1983                   NaN   \n",
       "11     s12  TV Show  1983                   NaN   \n",
       "12     s13  TV Show  1994  Diego Enrique Osorno   \n",
       "\n",
       "                                                 Cast         Country  \\\n",
       "0   João Miguel, Bianca Comparato, Michel Gomes, R...          Brazil   \n",
       "5   Erdal Beşikçioğlu, Yasemin Allen, Melis Birkan...          Turkey   \n",
       "11  Robert Więckiewicz, Maciej Musiał, Michalina O...          Poland   \n",
       "11  Robert Więckiewicz, Maciej Musiał, Michalina O...   United States   \n",
       "12                                                NaN          Mexico   \n",
       "\n",
       "   Release_Date Rating   Duration  \\\n",
       "0    2020-08-14  TV-MA  4 Seasons   \n",
       "5    2017-07-01  TV-MA   1 Season   \n",
       "11   2018-11-30  TV-MA   1 Season   \n",
       "11   2018-11-30  TV-MA   1 Season   \n",
       "12   2019-05-17  TV-MA   1 Season   \n",
       "\n",
       "                                                 Type  \\\n",
       "0   International TV Shows, TV Dramas, TV Sci-Fi &...   \n",
       "5     International TV Shows, TV Dramas, TV Mysteries   \n",
       "11  Crime TV Shows, International TV Shows, TV Dramas   \n",
       "11  Crime TV Shows, International TV Shows, TV Dramas   \n",
       "12  Crime TV Shows, Docuseries, International TV S...   \n",
       "\n",
       "                                          Description  Minutes     Unit  \n",
       "0   In a future where the elite inhabit an island ...        4  Seasons  \n",
       "5   A genetics professor experiments with a treatm...        1   Season  \n",
       "11  In this dark alt-history thriller, a naïve law...        1   Season  \n",
       "11  In this dark alt-history thriller, a naïve law...        1   Season  \n",
       "12  Archival video and new interviews examine Mexi...        1   Season  "
      ]
     },
     "execution_count": 238,
     "metadata": {},
     "output_type": "execute_result"
    }
   ],
   "source": [
    "data_tvshow.head(5)"
   ]
  },
  {
   "cell_type": "code",
   "execution_count": 241,
   "id": "2bb621d3-2102-4226-8d39-16f94d7ad85e",
   "metadata": {},
   "outputs": [
    {
     "data": {
      "text/plain": [
       "Country\n",
       "United States     783\n",
       "United Kingdom    236\n",
       "Japan             162\n",
       "South Korea       152\n",
       "Canada             84\n",
       "                 ... \n",
       "Czech Republic      1\n",
       " Lebanon            1\n",
       " Kuwait             1\n",
       "Philippines         1\n",
       "Uruguay             1\n",
       "Name: Title, Length: 100, dtype: int64"
      ]
     },
     "execution_count": 241,
     "metadata": {},
     "output_type": "execute_result"
    }
   ],
   "source": [
    "# Counting the movie count by each country\n",
    "data_tvshow.groupby('Country')['Title'].count().sort_values(ascending= False)"
   ]
  },
  {
   "cell_type": "markdown",
   "id": "d577a919-a19f-4e47-a978-7bcd9452d9e3",
   "metadata": {},
   "source": [
    "#### USA has maximum no of releases with a record total of 783 tv_shows "
   ]
  },
  {
   "cell_type": "code",
   "execution_count": 244,
   "id": "3e5afbfb-7f9c-471d-9542-ce012d0f9c60",
   "metadata": {},
   "outputs": [
    {
     "data": {
      "text/plain": [
       "100"
      ]
     },
     "execution_count": 244,
     "metadata": {},
     "output_type": "execute_result"
    }
   ],
   "source": [
    "data_tvshow['Country'].nunique()"
   ]
  },
  {
   "cell_type": "markdown",
   "id": "c6ffec84-8002-47a6-9476-00299caddbdf",
   "metadata": {},
   "source": [
    "#### 14. Sort dataset by year "
   ]
  },
  {
   "cell_type": "code",
   "execution_count": 246,
   "id": "5c37f7fe-3f64-4fb2-80db-efcf0186255e",
   "metadata": {},
   "outputs": [
    {
     "data": {
      "text/html": [
       "<div>\n",
       "<style scoped>\n",
       "    .dataframe tbody tr th:only-of-type {\n",
       "        vertical-align: middle;\n",
       "    }\n",
       "\n",
       "    .dataframe tbody tr th {\n",
       "        vertical-align: top;\n",
       "    }\n",
       "\n",
       "    .dataframe thead th {\n",
       "        text-align: right;\n",
       "    }\n",
       "</style>\n",
       "<table border=\"1\" class=\"dataframe\">\n",
       "  <thead>\n",
       "    <tr style=\"text-align: right;\">\n",
       "      <th></th>\n",
       "      <th>Show_Id</th>\n",
       "      <th>Category</th>\n",
       "      <th>Title</th>\n",
       "      <th>Director</th>\n",
       "      <th>Cast</th>\n",
       "      <th>Country</th>\n",
       "      <th>Release_Date</th>\n",
       "      <th>Rating</th>\n",
       "      <th>Duration</th>\n",
       "      <th>Type</th>\n",
       "      <th>Description</th>\n",
       "      <th>Minutes</th>\n",
       "      <th>Unit</th>\n",
       "    </tr>\n",
       "  </thead>\n",
       "  <tbody>\n",
       "    <tr>\n",
       "      <th>0</th>\n",
       "      <td>s1</td>\n",
       "      <td>TV Show</td>\n",
       "      <td>3%</td>\n",
       "      <td>NaN</td>\n",
       "      <td>João Miguel, Bianca Comparato, Michel Gomes, R...</td>\n",
       "      <td>Brazil</td>\n",
       "      <td>2020-08-14</td>\n",
       "      <td>TV-MA</td>\n",
       "      <td>4 Seasons</td>\n",
       "      <td>International TV Shows, TV Dramas, TV Sci-Fi &amp;...</td>\n",
       "      <td>In a future where the elite inhabit an island ...</td>\n",
       "      <td>4</td>\n",
       "      <td>Seasons</td>\n",
       "    </tr>\n",
       "    <tr>\n",
       "      <th>1</th>\n",
       "      <td>s2</td>\n",
       "      <td>Movie</td>\n",
       "      <td>07:19</td>\n",
       "      <td>Jorge Michel Grau</td>\n",
       "      <td>Demián Bichir, Héctor Bonilla, Oscar Serrano, ...</td>\n",
       "      <td>Mexico</td>\n",
       "      <td>2016-12-23</td>\n",
       "      <td>TV-MA</td>\n",
       "      <td>93 min</td>\n",
       "      <td>Dramas, International Movies</td>\n",
       "      <td>After a devastating earthquake hits Mexico Cit...</td>\n",
       "      <td>93</td>\n",
       "      <td>min</td>\n",
       "    </tr>\n",
       "  </tbody>\n",
       "</table>\n",
       "</div>"
      ],
      "text/plain": [
       "  Show_Id Category  Title           Director  \\\n",
       "0      s1  TV Show     3%                NaN   \n",
       "1      s2    Movie  07:19  Jorge Michel Grau   \n",
       "\n",
       "                                                Cast Country Release_Date  \\\n",
       "0  João Miguel, Bianca Comparato, Michel Gomes, R...  Brazil   2020-08-14   \n",
       "1  Demián Bichir, Héctor Bonilla, Oscar Serrano, ...  Mexico   2016-12-23   \n",
       "\n",
       "  Rating   Duration                                               Type  \\\n",
       "0  TV-MA  4 Seasons  International TV Shows, TV Dramas, TV Sci-Fi &...   \n",
       "1  TV-MA     93 min                       Dramas, International Movies   \n",
       "\n",
       "                                         Description  Minutes     Unit  \n",
       "0  In a future where the elite inhabit an island ...        4  Seasons  \n",
       "1  After a devastating earthquake hits Mexico Cit...       93      min  "
      ]
     },
     "execution_count": 246,
     "metadata": {},
     "output_type": "execute_result"
    }
   ],
   "source": [
    "data.head(2)"
   ]
  },
  {
   "cell_type": "code",
   "execution_count": 251,
   "id": "2b2959c0-ca49-42a6-bfeb-70a024f15444",
   "metadata": {},
   "outputs": [],
   "source": [
    "data.sort_values(by='Release_Date', inplace= True)"
   ]
  },
  {
   "cell_type": "markdown",
   "id": "972dbe57-58b4-40db-b750-68e87404d3ad",
   "metadata": {},
   "source": [
    "#### 15. Find all the instance where : \n",
    "#### Category is 'Movie and Type id ' Drama' or\n",
    "#### Catergory is 'TV Show and  type is 'Kids' TV"
   ]
  },
  {
   "cell_type": "code",
   "execution_count": 257,
   "id": "ee373a9a-ea8a-4f46-8199-946732709520",
   "metadata": {},
   "outputs": [
    {
     "data": {
      "text/html": [
       "<div>\n",
       "<style scoped>\n",
       "    .dataframe tbody tr th:only-of-type {\n",
       "        vertical-align: middle;\n",
       "    }\n",
       "\n",
       "    .dataframe tbody tr th {\n",
       "        vertical-align: top;\n",
       "    }\n",
       "\n",
       "    .dataframe thead th {\n",
       "        text-align: right;\n",
       "    }\n",
       "</style>\n",
       "<table border=\"1\" class=\"dataframe\">\n",
       "  <thead>\n",
       "    <tr style=\"text-align: right;\">\n",
       "      <th></th>\n",
       "      <th>Show_Id</th>\n",
       "      <th>Category</th>\n",
       "      <th>Title</th>\n",
       "      <th>Director</th>\n",
       "      <th>Cast</th>\n",
       "      <th>Country</th>\n",
       "      <th>Release_Date</th>\n",
       "      <th>Rating</th>\n",
       "      <th>Duration</th>\n",
       "      <th>Type</th>\n",
       "      <th>Description</th>\n",
       "      <th>Minutes</th>\n",
       "      <th>Unit</th>\n",
       "    </tr>\n",
       "  </thead>\n",
       "  <tbody>\n",
       "    <tr>\n",
       "      <th>308</th>\n",
       "      <td>s309</td>\n",
       "      <td>Movie</td>\n",
       "      <td>Adam: His Song Continues</td>\n",
       "      <td>Robert Markowitz</td>\n",
       "      <td>Daniel J. Travanti, JoBeth Williams, Richard M...</td>\n",
       "      <td>United States</td>\n",
       "      <td>2011-10-01</td>\n",
       "      <td>TV-MA</td>\n",
       "      <td>96 min</td>\n",
       "      <td>Dramas</td>\n",
       "      <td>After their child was abducted and murdered, J...</td>\n",
       "      <td>96</td>\n",
       "      <td>min</td>\n",
       "    </tr>\n",
       "    <tr>\n",
       "      <th>7364</th>\n",
       "      <td>s7363</td>\n",
       "      <td>Movie</td>\n",
       "      <td>Unspeakable Acts</td>\n",
       "      <td>Linda Otto</td>\n",
       "      <td>Jill Clayburgh, Brad Davis, Sam Behrens</td>\n",
       "      <td>United States</td>\n",
       "      <td>2011-10-01</td>\n",
       "      <td>TV-14</td>\n",
       "      <td>95 min</td>\n",
       "      <td>Dramas</td>\n",
       "      <td>Laurie and Joseph are doctors who interview se...</td>\n",
       "      <td>95</td>\n",
       "      <td>min</td>\n",
       "    </tr>\n",
       "    <tr>\n",
       "      <th>2962</th>\n",
       "      <td>s2963</td>\n",
       "      <td>Movie</td>\n",
       "      <td>In Defense of a Married Man</td>\n",
       "      <td>Joel Oliansky</td>\n",
       "      <td>Judith Light, Michael Ontkean, Jerry Orbach, P...</td>\n",
       "      <td>United States</td>\n",
       "      <td>2011-10-01</td>\n",
       "      <td>TV-14</td>\n",
       "      <td>94 min</td>\n",
       "      <td>Dramas</td>\n",
       "      <td>A lawyer's husband is having an affair. When h...</td>\n",
       "      <td>94</td>\n",
       "      <td>min</td>\n",
       "    </tr>\n",
       "    <tr>\n",
       "      <th>6847</th>\n",
       "      <td>s6846</td>\n",
       "      <td>Movie</td>\n",
       "      <td>The Ryan White Story</td>\n",
       "      <td>John Herzfeld</td>\n",
       "      <td>Judith Light, Lukas Haas, Michael Bowen, Nikki...</td>\n",
       "      <td>United States</td>\n",
       "      <td>2011-10-01</td>\n",
       "      <td>TV-PG</td>\n",
       "      <td>94 min</td>\n",
       "      <td>Dramas</td>\n",
       "      <td>After contracting HIV from a tainted blood tre...</td>\n",
       "      <td>94</td>\n",
       "      <td>min</td>\n",
       "    </tr>\n",
       "    <tr>\n",
       "      <th>5833</th>\n",
       "      <td>s5833</td>\n",
       "      <td>Movie</td>\n",
       "      <td>Strange Voices</td>\n",
       "      <td>Arthur Allan Seidelman</td>\n",
       "      <td>Nancy McKeon, Valerie Harper, Stephen Macht, T...</td>\n",
       "      <td>United States</td>\n",
       "      <td>2011-10-01</td>\n",
       "      <td>TV-PG</td>\n",
       "      <td>96 min</td>\n",
       "      <td>Dramas</td>\n",
       "      <td>When their college-age daughter suddenly begin...</td>\n",
       "      <td>96</td>\n",
       "      <td>min</td>\n",
       "    </tr>\n",
       "  </tbody>\n",
       "</table>\n",
       "</div>"
      ],
      "text/plain": [
       "     Show_Id Category                        Title                Director  \\\n",
       "308     s309    Movie     Adam: His Song Continues        Robert Markowitz   \n",
       "7364   s7363    Movie             Unspeakable Acts              Linda Otto   \n",
       "2962   s2963    Movie  In Defense of a Married Man           Joel Oliansky   \n",
       "6847   s6846    Movie         The Ryan White Story           John Herzfeld   \n",
       "5833   s5833    Movie               Strange Voices  Arthur Allan Seidelman   \n",
       "\n",
       "                                                   Cast        Country  \\\n",
       "308   Daniel J. Travanti, JoBeth Williams, Richard M...  United States   \n",
       "7364            Jill Clayburgh, Brad Davis, Sam Behrens  United States   \n",
       "2962  Judith Light, Michael Ontkean, Jerry Orbach, P...  United States   \n",
       "6847  Judith Light, Lukas Haas, Michael Bowen, Nikki...  United States   \n",
       "5833  Nancy McKeon, Valerie Harper, Stephen Macht, T...  United States   \n",
       "\n",
       "     Release_Date Rating Duration    Type  \\\n",
       "308    2011-10-01  TV-MA   96 min  Dramas   \n",
       "7364   2011-10-01  TV-14   95 min  Dramas   \n",
       "2962   2011-10-01  TV-14   94 min  Dramas   \n",
       "6847   2011-10-01  TV-PG   94 min  Dramas   \n",
       "5833   2011-10-01  TV-PG   96 min  Dramas   \n",
       "\n",
       "                                            Description  Minutes Unit  \n",
       "308   After their child was abducted and murdered, J...       96  min  \n",
       "7364  Laurie and Joseph are doctors who interview se...       95  min  \n",
       "2962  A lawyer's husband is having an affair. When h...       94  min  \n",
       "6847  After contracting HIV from a tainted blood tre...       94  min  \n",
       "5833  When their college-age daughter suddenly begin...       96  min  "
      ]
     },
     "execution_count": 257,
     "metadata": {},
     "output_type": "execute_result"
    }
   ],
   "source": [
    "data[(data['Category'] == 'Movie') & (data['Type']=='Dramas') | (data['Category'] == 'TV Show') & (data['Type']==\"Kids' TV\")].head(5)"
   ]
  },
  {
   "cell_type": "code",
   "execution_count": null,
   "id": "b60cc8f0-b2c0-4cf9-8291-3e46558e5a29",
   "metadata": {},
   "outputs": [],
   "source": []
  }
 ],
 "metadata": {
  "kernelspec": {
   "display_name": "Python 3 (ipykernel)",
   "language": "python",
   "name": "python3"
  },
  "language_info": {
   "codemirror_mode": {
    "name": "ipython",
    "version": 3
   },
   "file_extension": ".py",
   "mimetype": "text/x-python",
   "name": "python",
   "nbconvert_exporter": "python",
   "pygments_lexer": "ipython3",
   "version": "3.8.10"
  }
 },
 "nbformat": 4,
 "nbformat_minor": 5
}
